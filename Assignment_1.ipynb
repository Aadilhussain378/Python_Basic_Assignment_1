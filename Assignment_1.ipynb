{
 "cells": [
  {
   "cell_type": "markdown",
   "id": "32d4c82a",
   "metadata": {},
   "source": [
    "1. In the below elements which of them are values or an expression? eg:- values can be\n",
    "integer or string and expressions will be mathematical operators.\n",
    "\n",
    "*\n",
    "\n",
    "'hello'\n",
    "\n",
    "-87.8\n",
    "\n",
    "-\n",
    "\n",
    "/\n",
    "\n",
    "+\n",
    "\n",
    "6"
   ]
  },
  {
   "cell_type": "markdown",
   "id": "f0ebbb99",
   "metadata": {},
   "source": [
    "ANSWER:\n",
    "The above elements are categorized into values and expressions as:\n",
    "\n",
    "*(Expression)\n",
    "\n",
    "'hello' (Value)\n",
    "  \n",
    "-87.8  (Value)\n",
    "   \n",
    "  -(Expression)\n",
    "    \n",
    "/    (Expression)\n",
    "    \n",
    "  +(Expression)\n",
    "    \n",
    " 6     (Value)"
   ]
  },
  {
   "cell_type": "markdown",
   "id": "6ff0f94e",
   "metadata": {},
   "source": [
    "# 2. What is the difference between string and variable?"
   ]
  },
  {
   "cell_type": "markdown",
   "id": "bc2b7aa1",
   "metadata": {},
   "source": [
    "Answer:\n",
    "    \n",
    "    Strings in Python are sequences of character data. while as variable is a  named location\n",
    "    used to store data in memory.\n",
    "    "
   ]
  },
  {
   "cell_type": "code",
   "execution_count": 4,
   "id": "b8548f9c",
   "metadata": {},
   "outputs": [],
   "source": [
    "# here my_str is a variable holding the string \"Hello Aadil\"\n",
    "my_str=\"Hello Aadil\""
   ]
  },
  {
   "cell_type": "markdown",
   "id": "8e7c1501",
   "metadata": {},
   "source": [
    "So the difference is that strings are a type of data, while variables are named containers that can hold different types of data,\n",
    "including strings. "
   ]
  },
  {
   "cell_type": "markdown",
   "id": "f6550e6e",
   "metadata": {},
   "source": [
    "# 3. Describe three different data types."
   ]
  },
  {
   "cell_type": "markdown",
   "id": "ca825e4f",
   "metadata": {},
   "source": [
    "# Answer:\n",
    "    The three different data types in python are:\n",
    "    \n",
    "1.Integers:\n",
    "\n",
    " An integer is a whole number(Positive or neigative) without\n",
    " fractional part. in python integers are represented using 'int'\n",
    " data type\n",
    "\n",
    "2.Strings:\n",
    "\n",
    "    strings in python are sequences of character data enclosed \n",
    "    within either  single('') or double(\"\") quotes.In python\n",
    "    strings are represented by 'str'.\n",
    "\n",
    "3. Float:\n",
    "\n",
    "A float is a number that includes a decimal point. we can also\n",
    "say that Floats represent real numbers and are written with a \n",
    "decimal point. In python float is represented by 'float'.\n",
    "\n",
    "    The examples are shown below respectively:"
   ]
  },
  {
   "cell_type": "code",
   "execution_count": 6,
   "id": "eb46492b",
   "metadata": {},
   "outputs": [
    {
     "name": "stdout",
     "output_type": "stream",
     "text": [
      "<class 'int'>\n",
      "<class 'str'>\n",
      "<class 'float'>\n"
     ]
    }
   ],
   "source": [
    "x=12\n",
    "y='Hello world'\n",
    "z=13.0\n",
    "print(type(x))\n",
    "print(type(y))\n",
    "print(type(z))"
   ]
  },
  {
   "cell_type": "markdown",
   "id": "57980bc1",
   "metadata": {},
   "source": [
    "# 4.What is an expression made up of? What do all expressions do?"
   ]
  },
  {
   "cell_type": "markdown",
   "id": "2827c426",
   "metadata": {},
   "source": [
    "Answer:\n",
    "    Expressions are made up of of values, variables, operators, \n",
    "    and function calls, and they are used to calculate values, make decisions, \n",
    "    and manipulate data in a Python program.\n",
    "    \n",
    "    Expression always return a value.\n",
    "    \n",
    "    Functions are also expressions"
   ]
  },
  {
   "cell_type": "code",
   "execution_count": 3,
   "id": "b0637210",
   "metadata": {},
   "outputs": [
    {
     "name": "stdout",
     "output_type": "stream",
     "text": [
      "9\n"
     ]
    }
   ],
   "source": [
    "# Let us suppose we have an arithmetic expression as shown below\n",
    "# The expression calculates the result and finally assigns the result to the variable arth_exp\n",
    "\n",
    "arth_exp= 4*2+1\n",
    "print(arth_exp)"
   ]
  },
  {
   "cell_type": "code",
   "execution_count": 4,
   "id": "c5dbcb95",
   "metadata": {},
   "outputs": [
    {
     "name": "stdout",
     "output_type": "stream",
     "text": [
      "11\n"
     ]
    }
   ],
   "source": [
    "# Another example of python expression is function call expression\n",
    "\n",
    "num= len('Hello world')   #Calls the len() function to get the length of the string \"Hello world\"\n",
    "print(num)"
   ]
  },
  {
   "cell_type": "markdown",
   "id": "36ce1d94",
   "metadata": {},
   "source": [
    "# 5. This assignment statements, like spam = 10. What is the difference between an expression and a statement?"
   ]
  },
  {
   "cell_type": "markdown",
   "id": "b86283ca",
   "metadata": {},
   "source": [
    "The main difference between expressions and statements is that expressions \n",
    "are used to compute values, while statements are used to perform actions or control\n",
    "the flow of a program.\n",
    "\n",
    "In other words we can say that an expression evaluates to a single value where as a \n",
    "statement does not.\n",
    "\n",
    "Assignment statements, like the mentioned one (spam = 10),are a type of statement that\n",
    "assigns a value to a variable, and they often include expressions on the right side \n",
    "to determine the value to be assigned."
   ]
  },
  {
   "cell_type": "markdown",
   "id": "f08b65c3",
   "metadata": {},
   "source": [
    "# Examples of python statement and Python Expression"
   ]
  },
  {
   "cell_type": "code",
   "execution_count": 7,
   "id": "4964e555",
   "metadata": {},
   "outputs": [
    {
     "name": "stdout",
     "output_type": "stream",
     "text": [
      "0\n",
      "1\n",
      "2\n",
      "3\n",
      "4\n"
     ]
    }
   ],
   "source": [
    "# Python Expressions\n",
    "\n",
    "#arithmetic expression\n",
    "result = 5 + 3 * 2  # Calculates the result (11) and assigns it to the variable result.\n",
    "\n",
    "#Function Call Expression:\n",
    "num = len(\"Hello world\")  # Calls the len() function to get the length of the string \"hello world\"\n",
    "\n",
    "\n",
    "# Python Statements\n",
    "\n",
    "#Assignment statement\n",
    "x = 10  # Assigns the value 10 to the variable x\n",
    "\n",
    "#loop statement\n",
    "for i in range(5):\n",
    "    print(i)"
   ]
  },
  {
   "cell_type": "markdown",
   "id": "59da58cf",
   "metadata": {},
   "source": [
    "# 6. After running the following code, what does the variable bacon contain?\n",
    "\n",
    "bacon = 22\n",
    "\n",
    "bacon + 1"
   ]
  },
  {
   "cell_type": "markdown",
   "id": "696d4aaa",
   "metadata": {},
   "source": [
    " Answer:\n",
    "\n",
    "In the given code , the first line is an assignment statement that\n",
    "assigns the value 22 to the variable bacon.\n",
    "\n",
    "And the second line, bacon+1 expression does not reassign the value \n",
    "in bacon(that would need an assignment statement : bacon=bacon+1)\n",
    "\n",
    "so after running the above code the variable bacon still contains 22 as shown below."
   ]
  },
  {
   "cell_type": "code",
   "execution_count": 10,
   "id": "7c23bd90",
   "metadata": {},
   "outputs": [
    {
     "name": "stdout",
     "output_type": "stream",
     "text": [
      "22\n"
     ]
    }
   ],
   "source": [
    "bacon = 22\n",
    "bacon + 1\n",
    "print(bacon)"
   ]
  },
  {
   "cell_type": "markdown",
   "id": "b2c9b5ea",
   "metadata": {},
   "source": [
    "# 7. What should the values of the following two terms be?\n",
    " \n",
    "'spam'+'spamspam'\n",
    "\n",
    "'spam'*3"
   ]
  },
  {
   "cell_type": "markdown",
   "id": "2d26e9d3",
   "metadata": {},
   "source": [
    "Answer:\n",
    "\n",
    "Both the expressions evaluates to the string 'spamspamspam'.\n",
    "\n",
    "1.'spam' + 'spamspam' = 'spamspamspam'\n",
    "This operation concatenates the two strings using the concatenating operator '+', resulting in \n",
    "a string 'spamspamspam' and is called as string concatenation\n",
    "\n",
    "2.'spam' * 3 = 'spamspamspam'\n",
    "This operation repeats the string 'spam' three times, resulting in the same string 'spamspamspam'\n",
    "and here it is called as string multiplication.\n",
    "\n",
    "\n",
    "\n",
    "\n",
    "\n",
    "\n"
   ]
  },
  {
   "cell_type": "code",
   "execution_count": 11,
   "id": "d7c2426b",
   "metadata": {},
   "outputs": [
    {
     "name": "stdout",
     "output_type": "stream",
     "text": [
      "spamspamspam\n",
      "spamspamspam\n"
     ]
    }
   ],
   "source": [
    "print('spam'+'spamspam')\n",
    "print('spam'*3)"
   ]
  },
  {
   "cell_type": "markdown",
   "id": "7f24476f",
   "metadata": {},
   "source": [
    "# 8. Why is eggs a valid variable name while 100 is invalid?"
   ]
  },
  {
   "cell_type": "markdown",
   "id": "ef40d23e",
   "metadata": {},
   "source": [
    "Answer:\n",
    "\n",
    "In python there are certain rules and conventions for variable decleration which states that \n",
    "Variable names must start with a letter (a-z, A-Z) or an underscore (_). They cannot start\n",
    "with a number. This is why 'eggs' is a valid variable name because it starts with a letter\n",
    "('e'), but '100' is invalid because it starts with a number ('1')."
   ]
  },
  {
   "cell_type": "markdown",
   "id": "27a3b8e8",
   "metadata": {},
   "source": [
    "# 9. What three functions can be used to get the integer, floating-point number, or string version of a value?"
   ]
  },
  {
   "cell_type": "markdown",
   "id": "343eafa6",
   "metadata": {},
   "source": [
    "Answer:\n",
    "\n",
    "The three functions which we can use to get their respective version are:int(), float() or str()  \n",
    "And these fuctions are illustrated respectively as:"
   ]
  },
  {
   "cell_type": "code",
   "execution_count": 15,
   "id": "53fcae15",
   "metadata": {},
   "outputs": [
    {
     "name": "stdout",
     "output_type": "stream",
     "text": [
      "the original version of value is <class 'float'>\n",
      "the updated version of value is <class 'int'>\n"
     ]
    }
   ],
   "source": [
    "#To get the integer version of a value, we can use the int() function by passing the value to it. For example:\n",
    "value=76.50\n",
    "print('the original version of value is',type(value))\n",
    "\n",
    "# Getting the integer version of value by passing as a parameter to the int() function\n",
    "value=int(value)\n",
    "\n",
    "print('the updated version of value is',type(value))\n",
    "\n",
    "\n",
    "\n"
   ]
  },
  {
   "cell_type": "code",
   "execution_count": 16,
   "id": "8327cd76",
   "metadata": {},
   "outputs": [
    {
     "name": "stdout",
     "output_type": "stream",
     "text": [
      "the original version of value is <class 'str'>\n",
      "the updated version of value is <class 'float'>\n"
     ]
    }
   ],
   "source": [
    "#To get the floating version of a value, we can use the float() function by passing the value to it. For example:\n",
    "value=\"12121\"\n",
    "print('the original version of value is',type(value))\n",
    "\n",
    "# Getting the integer version of value by passing as a parameter to the int() function\n",
    "value=float(value)\n",
    "\n",
    "print('the updated version of value is',type(value))"
   ]
  },
  {
   "cell_type": "code",
   "execution_count": 17,
   "id": "49321d42",
   "metadata": {},
   "outputs": [
    {
     "name": "stdout",
     "output_type": "stream",
     "text": [
      "the original version of value is <class 'int'>\n",
      "the updated version of value is <class 'int'>\n"
     ]
    }
   ],
   "source": [
    "#To get the string version of a value, we can use the str() function by passing the value to it. For example:\n",
    "value=4343\n",
    "print('the original version of value is',type(value))\n",
    "\n",
    "# Getting the integer version of value by passing as a parameter to the int() function\n",
    "value=(value)\n",
    "\n",
    "print('the updated version of value is',type(value))"
   ]
  },
  {
   "cell_type": "markdown",
   "id": "a261f38d",
   "metadata": {},
   "source": [
    "# 10. Why does this expression cause an error? How can you fix it?\n",
    "'I have eaten'+ 99 + 'burritos'"
   ]
  },
  {
   "cell_type": "markdown",
   "id": "85a969bd",
   "metadata": {},
   "source": [
    "Answer:\n",
    "    \n",
    "The expression 'I have eaten' + 99 + 'burritos' causes an error because it is trying to \n",
    "concatenate a string with an integer without explicitly converting the integer to a string \n",
    "first. In Python, we cannot directly concatenate a string and an integer without converting \n",
    "the integer to a string or using a comma to separate them in a print statement.\n",
    "\n",
    "To fix this error, im going to convert the integer 99 to a string using the str() function, as shown below:"
   ]
  },
  {
   "cell_type": "code",
   "execution_count": 20,
   "id": "88b36af2",
   "metadata": {},
   "outputs": [
    {
     "data": {
      "text/plain": [
       "'I have eaten99burritos'"
      ]
     },
     "execution_count": 20,
     "metadata": {},
     "output_type": "execute_result"
    }
   ],
   "source": [
    "'I have eaten'+ str(99) + 'burritos'"
   ]
  },
  {
   "cell_type": "code",
   "execution_count": null,
   "id": "f766a1b6",
   "metadata": {},
   "outputs": [],
   "source": []
  }
 ],
 "metadata": {
  "kernelspec": {
   "display_name": "Python 3 (ipykernel)",
   "language": "python",
   "name": "python3"
  },
  "language_info": {
   "codemirror_mode": {
    "name": "ipython",
    "version": 3
   },
   "file_extension": ".py",
   "mimetype": "text/x-python",
   "name": "python",
   "nbconvert_exporter": "python",
   "pygments_lexer": "ipython3",
   "version": "3.9.12"
  }
 },
 "nbformat": 4,
 "nbformat_minor": 5
}

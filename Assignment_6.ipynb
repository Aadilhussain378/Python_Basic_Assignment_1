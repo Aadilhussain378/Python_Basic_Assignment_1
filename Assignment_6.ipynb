{
 "cells": [
  {
   "cell_type": "markdown",
   "id": "16e63ce6",
   "metadata": {},
   "source": [
    "Assignment_no. 6\n",
    "\n",
    "Submitted By Aadil Hussain teeli"
   ]
  },
  {
   "cell_type": "markdown",
   "id": "712887e5",
   "metadata": {},
   "source": [
    "# Q.1. What are keywords in python? Using the keyword library, print all the python keywords."
   ]
  },
  {
   "cell_type": "markdown",
   "id": "389c1381",
   "metadata": {},
   "source": [
    "Ans:\n",
    "    \n",
    "In Python, keywords are reserved words that have special meanings and cannot be used as variable names or identifiers. These keywords are used to define the syntax and structure of the Python language itself."
   ]
  },
  {
   "cell_type": "code",
   "execution_count": 1,
   "id": "f1a46664",
   "metadata": {},
   "outputs": [
    {
     "name": "stdout",
     "output_type": "stream",
     "text": [
      "False\n",
      "None\n",
      "True\n",
      "__peg_parser__\n",
      "and\n",
      "as\n",
      "assert\n",
      "async\n",
      "await\n",
      "break\n",
      "class\n",
      "continue\n",
      "def\n",
      "del\n",
      "elif\n",
      "else\n",
      "except\n",
      "finally\n",
      "for\n",
      "from\n",
      "global\n",
      "if\n",
      "import\n",
      "in\n",
      "is\n",
      "lambda\n",
      "nonlocal\n",
      "not\n",
      "or\n",
      "pass\n",
      "raise\n",
      "return\n",
      "try\n",
      "while\n",
      "with\n",
      "yield\n"
     ]
    }
   ],
   "source": [
    "# printing all the keywords using the 'keyword' module\n",
    "\n",
    "import keyword\n",
    "keywords=keyword.kwlist\n",
    "\n",
    "for i in keywords:\n",
    "    print(i)"
   ]
  },
  {
   "cell_type": "markdown",
   "id": "f45fb16d",
   "metadata": {},
   "source": [
    "# Q.2. What are the rules to create variables in python?"
   ]
  },
  {
   "cell_type": "markdown",
   "id": "1548f9eb",
   "metadata": {},
   "source": [
    "Ans:\n",
    "  There are following rules that should we follow while creating the variables:\n",
    "- Variable names can contain letters (a-z, A-Z), digits (0-9), and underscores (_).\n",
    "- They cannot start with a digit. For example, variable1 is valid, but 1variable is not.\n",
    "- Python is case-sensitive, meaning Variable and variable would be treated as two distinct variables.\n",
    "- You cannot use Python's reserved keywords as variable names. For instance, you can't use keywords like if, else, for, while, True, False, None, etc., as variable names.\n",
    "- You cannot use special characters such as !, @, #, $, %, etc., in variable names. However, the underscore (_) is allowed.\n",
    "- Avoid using built-in function names as variable names to prevent shadowing the built-in functions. For example, avoid using names like list, str, dict, etc., as variable names."
   ]
  },
  {
   "cell_type": "markdown",
   "id": "10e6aa7b",
   "metadata": {},
   "source": [
    "# Q.3 What are the standards and conventions followed for the nomenclature of variables in python to improve code readability and maintainability?"
   ]
  },
  {
   "cell_type": "markdown",
   "id": "ba3dfcd1",
   "metadata": {},
   "source": [
    "Ans: we follow specific standards and conventions for variable naming that help us to improve code readability and maintainability. Here are some widely accepted standards and conventions for naming variables in Python:\n",
    "    "
   ]
  },
  {
   "cell_type": "markdown",
   "id": "5f16da07",
   "metadata": {},
   "source": [
    "1. Snake Case:\n",
    "\n",
    "Use snake_case for naming variables with multiple words, separating them with underscores (_). This approach offers clear separation and readability."
   ]
  },
  {
   "cell_type": "code",
   "execution_count": 3,
   "id": "d8f63128",
   "metadata": {},
   "outputs": [],
   "source": [
    "# For example\n",
    "first_name = \"Aadil\"\n",
    "last_name = \"Hussain\""
   ]
  },
  {
   "cell_type": "markdown",
   "id": "079fe4d4",
   "metadata": {},
   "source": [
    "2. Choose Descriptive Names:\n",
    "\n",
    "Choose variable name that clearly indicate a variable's purpose. Instead of generic terms like data, consider more descriptive names."
   ]
  },
  {
   "cell_type": "code",
   "execution_count": 4,
   "id": "7c8125ff",
   "metadata": {},
   "outputs": [],
   "source": [
    "# Forexample instead of using \n",
    "\n",
    "data='Aadil'\n",
    "\n",
    "# Use a more descriptive Name\n",
    "\n",
    "user_name='Aadil'"
   ]
  },
  {
   "cell_type": "markdown",
   "id": "3fd1084d",
   "metadata": {},
   "source": [
    "3. Avoid Shadowing Built-ins:\n",
    "\n",
    "Avoid using names for variables that are the same as Python's built-in functions or types. This helps prevent confusion. For instance, don't use names like list, str, or dict for your variables."
   ]
  },
  {
   "cell_type": "markdown",
   "id": "7e12c55e",
   "metadata": {},
   "source": [
    "4. Minimize Ambiguity:\n",
    "\n",
    "Pick clear and direct variable names that show their purpose without needing extra clarification."
   ]
  },
  {
   "cell_type": "code",
   "execution_count": 5,
   "id": "90df6eb4",
   "metadata": {},
   "outputs": [],
   "source": [
    "# Example\n",
    "\n",
    "# Ambiguous variable name\n",
    "value = 50000\n",
    "\n",
    "# Clear and specific variable name\n",
    "monthlySalary = 50000"
   ]
  },
  {
   "cell_type": "markdown",
   "id": "b3837dea",
   "metadata": {},
   "source": [
    "5. Define Constants with Clarity:\n",
    "\n",
    "When you're defining constants in Python, use uppercase letters and underscores to differentiate them from regular variables. This convention makes it clear that the value shouldn't be changed throughout the code."
   ]
  },
  {
   "cell_type": "code",
   "execution_count": 7,
   "id": "907652ce",
   "metadata": {},
   "outputs": [],
   "source": [
    "# Defining constants using uppercase letters and underscores\n",
    "MAX_LENGTH = 100\n",
    "PI_VALUE = 3.14"
   ]
  },
  {
   "cell_type": "markdown",
   "id": "87506449",
   "metadata": {},
   "source": [
    "# Q.4. What will happen if a keyword is used as a variable name?"
   ]
  },
  {
   "cell_type": "markdown",
   "id": "9e15b515",
   "metadata": {},
   "source": [
    "Ans:\n",
    "     It will encounter a syntax error "
   ]
  },
  {
   "cell_type": "code",
   "execution_count": 10,
   "id": "f0e6ba58",
   "metadata": {},
   "outputs": [
    {
     "ename": "SyntaxError",
     "evalue": "invalid syntax (3492317678.py, line 3)",
     "output_type": "error",
     "traceback": [
      "\u001b[1;36m  Input \u001b[1;32mIn [10]\u001b[1;36m\u001b[0m\n\u001b[1;33m    for=100\u001b[0m\n\u001b[1;37m       ^\u001b[0m\n\u001b[1;31mSyntaxError\u001b[0m\u001b[1;31m:\u001b[0m invalid syntax\n"
     ]
    }
   ],
   "source": [
    "# Example\n",
    "\n",
    "for=100"
   ]
  },
  {
   "cell_type": "markdown",
   "id": "c12d344d",
   "metadata": {},
   "source": [
    "# Q.5. For what purpose def keyword is used?"
   ]
  },
  {
   "cell_type": "markdown",
   "id": "f1d16826",
   "metadata": {},
   "source": [
    "Ans:\n",
    "The def keyword in Python is used to define a function. We create a function by using def keyword followed by a function name."
   ]
  },
  {
   "cell_type": "code",
   "execution_count": 13,
   "id": "5ec86f14",
   "metadata": {},
   "outputs": [
    {
     "data": {
      "text/plain": [
       "5"
      ]
     },
     "execution_count": 13,
     "metadata": {},
     "output_type": "execute_result"
    }
   ],
   "source": [
    "# Example\n",
    "\n",
    "def add(a,b):\n",
    "    return a+b\n",
    "\n",
    "add(3,2)"
   ]
  },
  {
   "cell_type": "markdown",
   "id": "9c900b42",
   "metadata": {},
   "source": [
    "# Q.6. What is the operation of this special character ‘\\’?"
   ]
  },
  {
   "cell_type": "markdown",
   "id": "57ea58c8",
   "metadata": {},
   "source": [
    "Ans:\n",
    "    \n",
    "The special character \\ in Python is known as the backslash. It serves various purposes depending on how it's used:"
   ]
  },
  {
   "cell_type": "code",
   "execution_count": 15,
   "id": "c6ac1029",
   "metadata": {},
   "outputs": [
    {
     "name": "stdout",
     "output_type": "stream",
     "text": [
      "This is a newline \n",
      " and this is a tab \t.\n",
      "730\n",
      "This is a backslash: \\\n"
     ]
    }
   ],
   "source": [
    "# 1. Escape Sequence\n",
    "\n",
    "print(\"This is a newline \\n and this is a tab \\t.\")\n",
    "\n",
    "# 2. Continuation\n",
    "\n",
    "total= 100 + 300 + 300+ \\\n",
    "        20 + 10\n",
    "\n",
    "print(total)\n",
    "\n",
    "# Escape Special Characters\n",
    "print(\"This is a backslash: \\\\\")\n"
   ]
  },
  {
   "cell_type": "markdown",
   "id": "25e459e3",
   "metadata": {},
   "source": [
    "Q.7. Give an example of the following conditions:\n",
    "(i) Homogeneous list\n",
    "(ii) Heterogeneous set\n",
    "(iii) Homogeneous tuple"
   ]
  },
  {
   "cell_type": "markdown",
   "id": "49a18d26",
   "metadata": {},
   "source": [
    "Ans:\n",
    "- Homogeneous List: A homogeneous list contains elements of the same data type. In Python, you can have a list that contains elements of the same type, like a list of integers, a list of strings, etc.\n",
    "\n",
    "- Heterogeneous set: In Python, a set is designed to store unique elements, meaning each element in the set must be distinct. Additionally, since sets use hashing to ensure uniqueness, the elements within a set are required to be hashable. Typically, in practical scenarios, we'll find that sets contain elements of the same type due to these constraints.\n",
    "So  for the sake of conceptual understanding, we can think of a \"heterogeneous set\" as a set that contains elements of different data types, even though it's not a standard or recommended practice.\n",
    "\n",
    "- Homogeneous Tuple: A homogeneous tuple contains elements of the same data type. Tuples are similar to lists but are immutable, meaning their elements cannot be changed once defined.\n",
    "    \n",
    "    "
   ]
  },
  {
   "cell_type": "code",
   "execution_count": 17,
   "id": "fbbba532",
   "metadata": {},
   "outputs": [
    {
     "name": "stdout",
     "output_type": "stream",
     "text": [
      "[1, 2, 3, 4, 5]\n"
     ]
    }
   ],
   "source": [
    "# A homogeneous list of integers\n",
    "homog_list = [1, 2, 3, 4, 5]\n",
    "print(homog_list)"
   ]
  },
  {
   "cell_type": "code",
   "execution_count": 18,
   "id": "84294a09",
   "metadata": {},
   "outputs": [
    {
     "name": "stdout",
     "output_type": "stream",
     "text": [
      "{1, 3.0, 'two'}\n"
     ]
    }
   ],
   "source": [
    "# heterogeneous set\n",
    "hetero_set = {1, \"two\", 3.0,}\n",
    "\n",
    "print(hetero_set)"
   ]
  },
  {
   "cell_type": "code",
   "execution_count": 19,
   "id": "b485367f",
   "metadata": {},
   "outputs": [
    {
     "name": "stdout",
     "output_type": "stream",
     "text": [
      "('apple', 'banana', 'cherry')\n"
     ]
    }
   ],
   "source": [
    "# A homogeneous tuple of strings\n",
    "homog_tuple = (\"apple\", \"banana\", \"cherry\")\n",
    "print(homog_tuple)"
   ]
  },
  {
   "cell_type": "markdown",
   "id": "b68cad5c",
   "metadata": {},
   "source": [
    "# Q.8. Explain the mutable and immutable data types with proper explanation & examples."
   ]
  },
  {
   "cell_type": "markdown",
   "id": "9beefba3",
   "metadata": {},
   "source": [
    "Ans:\n",
    "    \n",
    "- Mutable Data Types:  Mutable data types are those whose values can be altered or modified after they are created."
   ]
  },
  {
   "cell_type": "code",
   "execution_count": 20,
   "id": "333eabfb",
   "metadata": {},
   "outputs": [
    {
     "name": "stdout",
     "output_type": "stream",
     "text": [
      "[4, 2, 3]\n"
     ]
    }
   ],
   "source": [
    "# Examples\n",
    "\n",
    "# Lists in Python are mutable.we can modify, add, remove, or change elements in a list after its creation.\n",
    "my_list = [1, 2, 3]\n",
    "my_list[0] = 4\n",
    "print(my_list) \n",
    "    "
   ]
  },
  {
   "cell_type": "code",
   "execution_count": 21,
   "id": "8decdfcb",
   "metadata": {},
   "outputs": [
    {
     "name": "stdout",
     "output_type": "stream",
     "text": [
      "{'a': 3, 'b': 2}\n"
     ]
    }
   ],
   "source": [
    "#  Dictionaries are mutable objects in Python. Ywe can add, remove, or modify key-value pairs in a dictionary after it's created.\n",
    "\n",
    "my_dict = {'a': 1, 'b': 2}\n",
    "my_dict['a'] = 3\n",
    "print(my_dict) "
   ]
  },
  {
   "cell_type": "code",
   "execution_count": 22,
   "id": "88d36452",
   "metadata": {},
   "outputs": [
    {
     "name": "stdout",
     "output_type": "stream",
     "text": [
      "{1, 2, 3, 4}\n"
     ]
    }
   ],
   "source": [
    "# Sets are mutable collections in Python, allowing us to add or remove elements.\n",
    "\n",
    "my_set = {1, 2, 3}\n",
    "my_set.add(4)\n",
    "print(my_set)"
   ]
  },
  {
   "cell_type": "markdown",
   "id": "57c07815",
   "metadata": {},
   "source": [
    "- Immutable Data Types:  Immutable data types are those whose values cannot be changed or modified after they are created. If you need to change the value of an immutable object, you'll have to create a new object."
   ]
  },
  {
   "cell_type": "code",
   "execution_count": 23,
   "id": "a4c4b18e",
   "metadata": {},
   "outputs": [
    {
     "name": "stdout",
     "output_type": "stream",
     "text": [
      "1724547426896\n",
      "1724635746160\n",
      "1724547427216\n",
      "1724636205584\n"
     ]
    }
   ],
   "source": [
    "# Examples\n",
    "\n",
    "#Integer, float objects in Python are immutable. Once an integer/ float object is created, you cannot modify its value; you have to create a new integer object.\n",
    "\n",
    "my_int=10\n",
    "my_float=22.22\n",
    "\n",
    "\n",
    "print(id(my_int))\n",
    "print(id(my_float))\n",
    "\n",
    "\n",
    "my_int=20\n",
    "my_float=32.22\n",
    "\n",
    "print(id(my_int))\n",
    "print(id(my_float))"
   ]
  },
  {
   "cell_type": "code",
   "execution_count": 24,
   "id": "adbed256",
   "metadata": {},
   "outputs": [],
   "source": [
    "# Tuples are immutable data types in Python.\n",
    "my_tuple = (1, 2, 3)\n",
    "\n",
    "# # Modifying or adding to my_tuple requires creating a new tuple"
   ]
  },
  {
   "cell_type": "code",
   "execution_count": 25,
   "id": "aee9077e",
   "metadata": {},
   "outputs": [],
   "source": [
    "# Strings in Python are immutable. \n",
    "\n",
    "my_string = \"hello\""
   ]
  },
  {
   "cell_type": "markdown",
   "id": "b4aeeb24",
   "metadata": {},
   "source": [
    "# Q.9. Write a code to create the given structure using only for loop.\n",
    "    *\n",
    "   ***\n",
    "  *****\n",
    " *******\n",
    "*********"
   ]
  },
  {
   "cell_type": "code",
   "execution_count": 35,
   "id": "3d843b43",
   "metadata": {},
   "outputs": [
    {
     "name": "stdout",
     "output_type": "stream",
     "text": [
      "ENTER THE VALUE OF n5\n",
      "    *\n",
      "   ***\n",
      "  *****\n",
      " *******\n",
      "*********\n"
     ]
    }
   ],
   "source": [
    "n=int(input(\"ENTER THE VALUE OF n\"))\n",
    "gap=n-1\n",
    "stars=1\n",
    "for i in range(n):\n",
    "    for j in range(gap):\n",
    "        print(\" \",end=\"\")\n",
    "    for j in range(gap,gap+stars):\n",
    "        print(\"*\",end='')\n",
    "            \n",
    "    print()\n",
    "    \n",
    "    gap -=1\n",
    "    stars +=2"
   ]
  },
  {
   "cell_type": "markdown",
   "id": "c3fe735f",
   "metadata": {},
   "source": [
    "# 10. Write a code to create the given structure using while loop.\n",
    "\n",
    "|||||||||\n",
    " |||||||\n",
    "  |||||\n",
    "   |||\n",
    "    |"
   ]
  },
  {
   "cell_type": "code",
   "execution_count": 42,
   "id": "40b710bc",
   "metadata": {},
   "outputs": [
    {
     "name": "stdout",
     "output_type": "stream",
     "text": [
      "ENTER THE VALUE OF n5\n",
      "|||||||||\n",
      " |||||||\n",
      "  |||||\n",
      "   |||\n",
      "    |\n"
     ]
    }
   ],
   "source": [
    "n=int(input(\"ENTER THE VALUE OF n\"))\n",
    "gap=0\n",
    "stars=2*n-1\n",
    "\n",
    "for i in range(n):\n",
    "    for j in range(gap):\n",
    "        print(' ',end=\"\")\n",
    "    for j in range(stars):\n",
    "        print(\"|\", end='')\n",
    "        \n",
    "    print()\n",
    "    \n",
    "    gap +=1\n",
    "    stars -=2\n",
    "\n"
   ]
  },
  {
   "cell_type": "code",
   "execution_count": null,
   "id": "588b9d1c",
   "metadata": {},
   "outputs": [],
   "source": []
  }
 ],
 "metadata": {
  "kernelspec": {
   "display_name": "Python 3 (ipykernel)",
   "language": "python",
   "name": "python3"
  },
  "language_info": {
   "codemirror_mode": {
    "name": "ipython",
    "version": 3
   },
   "file_extension": ".py",
   "mimetype": "text/x-python",
   "name": "python",
   "nbconvert_exporter": "python",
   "pygments_lexer": "ipython3",
   "version": "3.9.12"
  }
 },
 "nbformat": 4,
 "nbformat_minor": 5
}

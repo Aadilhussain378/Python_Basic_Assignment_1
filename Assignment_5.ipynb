{
 "cells": [
  {
   "cell_type": "markdown",
   "id": "3ce5adc8",
   "metadata": {},
   "source": [
    "Assignment_5\n",
    "\n",
    "Submitted By Aadil Hussain teeli"
   ]
  },
  {
   "cell_type": "markdown",
   "id": "5711b50a",
   "metadata": {},
   "source": [
    "# 1. What does an empty dictionary&#39;s code look like?"
   ]
  },
  {
   "cell_type": "markdown",
   "id": "42b6265e",
   "metadata": {},
   "source": [
    "Ans:\n",
    "    \n",
    "    In Python, an empty dictionary is represented by a pair of curly braces {}. Here's how it looks:"
   ]
  },
  {
   "cell_type": "code",
   "execution_count": 1,
   "id": "6b2805ad",
   "metadata": {},
   "outputs": [
    {
     "data": {
      "text/plain": [
       "dict"
      ]
     },
     "execution_count": 1,
     "metadata": {},
     "output_type": "execute_result"
    }
   ],
   "source": [
    "my_empty_dict = {}\n",
    "type(my_empty_dict)"
   ]
  },
  {
   "cell_type": "markdown",
   "id": "62d13b18",
   "metadata": {},
   "source": [
    "# 2. What is the value of a dictionary value with the key &#39;foo&#39; and the value 42?"
   ]
  },
  {
   "cell_type": "markdown",
   "id": "852e9c36",
   "metadata": {},
   "source": [
    "Ans:\n",
    "    \n",
    "Let us create a dictionary with key 'foo' and value '42'"
   ]
  },
  {
   "cell_type": "code",
   "execution_count": 2,
   "id": "f40e5276",
   "metadata": {},
   "outputs": [
    {
     "name": "stdout",
     "output_type": "stream",
     "text": [
      "{'foo': 42}\n"
     ]
    }
   ],
   "source": [
    "my_dict = {'foo': 42}  # Here, 'foo' is the key, and 42 is the associated value.\n",
    "\n",
    "print(my_dict)"
   ]
  },
  {
   "cell_type": "markdown",
   "id": "ecec3247",
   "metadata": {},
   "source": [
    "# 3. What is the most significant distinction between a dictionary and a list?"
   ]
  },
  {
   "cell_type": "markdown",
   "id": "c12331ab",
   "metadata": {},
   "source": [
    "Ans:\n",
    "The most significant distinction between a dictionary and a list are:\n",
    "- Structure: Dictionaries store data in key-value pairs; lists store data as an ordered collection.\n",
    "- Access: Dictionaries use unique keys for value retrieval; lists use indices.\n",
    "- Mutability: Both are mutable, but dictionaries allow key-value modifications; lists allow item modifications."
   ]
  },
  {
   "cell_type": "markdown",
   "id": "256fc924",
   "metadata": {},
   "source": [
    "# 4. What happens if you try to access spam[&#39;foo&#39;] if spam is {&#39;bar&#39;: 100}?"
   ]
  },
  {
   "cell_type": "markdown",
   "id": "292939d1",
   "metadata": {},
   "source": [
    "Ans:\n",
    "\n",
    "If we try to access spam['foo'] when spam is {'bar': 100}, we will get a KeyError because the key 'foo' does not exist in the dictionary spam(shown below)."
   ]
  },
  {
   "cell_type": "code",
   "execution_count": 4,
   "id": "2504dff9",
   "metadata": {},
   "outputs": [
    {
     "ename": "KeyError",
     "evalue": "'foo'",
     "output_type": "error",
     "traceback": [
      "\u001b[1;31m---------------------------------------------------------------------------\u001b[0m",
      "\u001b[1;31mKeyError\u001b[0m                                  Traceback (most recent call last)",
      "Input \u001b[1;32mIn [4]\u001b[0m, in \u001b[0;36m<cell line: 2>\u001b[1;34m()\u001b[0m\n\u001b[0;32m      1\u001b[0m spam\u001b[38;5;241m=\u001b[39m{\u001b[38;5;124m'\u001b[39m\u001b[38;5;124mbar\u001b[39m\u001b[38;5;124m'\u001b[39m: \u001b[38;5;241m100\u001b[39m}\n\u001b[1;32m----> 2\u001b[0m \u001b[43mspam\u001b[49m\u001b[43m[\u001b[49m\u001b[38;5;124;43m'\u001b[39;49m\u001b[38;5;124;43mfoo\u001b[39;49m\u001b[38;5;124;43m'\u001b[39;49m\u001b[43m]\u001b[49m\n",
      "\u001b[1;31mKeyError\u001b[0m: 'foo'"
     ]
    }
   ],
   "source": [
    "spam={'bar': 100}\n",
    "spam['foo']"
   ]
  },
  {
   "cell_type": "markdown",
   "id": "96fe6017",
   "metadata": {},
   "source": [
    "# 5. If a dictionary is stored in spam, what is the difference between the expressions &#39;cat&#39; in spam and &#39;cat&#39; in spam.keys()?"
   ]
  },
  {
   "cell_type": "markdown",
   "id": "a3cf3ace",
   "metadata": {},
   "source": [
    "Ans:\n",
    "- 'cat' in spam: Checks if the key 'cat' exists in the dictionary spam.\n",
    "- 'cat' in spam.keys(): Retrieves all keys from spam and checks if 'cat' exists among those keys.\n",
    "\n",
    "The difference lies in efficiency and context; the first directly checks the dictionary keys, while the second creates a list of keys first and then checks membership."
   ]
  },
  {
   "cell_type": "code",
   "execution_count": 6,
   "id": "aca91f38",
   "metadata": {},
   "outputs": [],
   "source": [
    "spam={'cat':1}"
   ]
  },
  {
   "cell_type": "code",
   "execution_count": 7,
   "id": "806450b7",
   "metadata": {},
   "outputs": [
    {
     "data": {
      "text/plain": [
       "True"
      ]
     },
     "execution_count": 7,
     "metadata": {},
     "output_type": "execute_result"
    }
   ],
   "source": [
    "'cat' in spam"
   ]
  },
  {
   "cell_type": "code",
   "execution_count": 8,
   "id": "50a00045",
   "metadata": {},
   "outputs": [
    {
     "data": {
      "text/plain": [
       "True"
      ]
     },
     "execution_count": 8,
     "metadata": {},
     "output_type": "execute_result"
    }
   ],
   "source": [
    "'cat' in spam.keys()"
   ]
  },
  {
   "cell_type": "markdown",
   "id": "c0421706",
   "metadata": {},
   "source": [
    "# 6. If a dictionary is stored in spam, what is the difference between the expressions &#39;cat&#39; in spam and &#39;cat&#39; in spam.values()?"
   ]
  },
  {
   "cell_type": "markdown",
   "id": "d08aebb5",
   "metadata": {},
   "source": [
    "Ans:\n",
    "    \n",
    "- 'cat' in spam: Checks if the key 'cat' exists among the keys of the dictionary spam.\n",
    "- 'cat' in spam.values(): Checks if the value 'cat' exists among the values of the dictionary spam."
   ]
  },
  {
   "cell_type": "code",
   "execution_count": 10,
   "id": "3cd9821a",
   "metadata": {},
   "outputs": [],
   "source": [
    "spam={'key':'cat'}"
   ]
  },
  {
   "cell_type": "code",
   "execution_count": 12,
   "id": "fa4de120",
   "metadata": {},
   "outputs": [
    {
     "data": {
      "text/plain": [
       "False"
      ]
     },
     "execution_count": 12,
     "metadata": {},
     "output_type": "execute_result"
    }
   ],
   "source": [
    "'cat' in spam # it will print False"
   ]
  },
  {
   "cell_type": "code",
   "execution_count": 13,
   "id": "8b07fa68",
   "metadata": {},
   "outputs": [
    {
     "data": {
      "text/plain": [
       "True"
      ]
     },
     "execution_count": 13,
     "metadata": {},
     "output_type": "execute_result"
    }
   ],
   "source": [
    "'cat' in spam.values()  # it will print True"
   ]
  },
  {
   "cell_type": "markdown",
   "id": "27d92056",
   "metadata": {},
   "source": [
    "# 7. What is a shortcut for the following code?\n",
    "# if &#39;color&#39; not in spam:\n",
    "# spam[&#39;color&#39;] = &#39;black&#39;"
   ]
  },
  {
   "cell_type": "markdown",
   "id": "91c92a81",
   "metadata": {},
   "source": [
    "Ans: Here's the shortcut:\n",
    "    "
   ]
  },
  {
   "cell_type": "code",
   "execution_count": 14,
   "id": "61d2790d",
   "metadata": {},
   "outputs": [
    {
     "name": "stdout",
     "output_type": "stream",
     "text": [
      "{'key': 'cat', 'color': 'black'}\n"
     ]
    }
   ],
   "source": [
    "spam={'key':'cat'}\n",
    "if 'color' not in spam:\n",
    "    spam.setdefault('color', 'black')\n",
    "    \n",
    "print(spam)"
   ]
  },
  {
   "cell_type": "markdown",
   "id": "47e46b34",
   "metadata": {},
   "source": [
    "# 8. How do you &quot;pretty print&quot; dictionary values using which module and function?"
   ]
  },
  {
   "cell_type": "markdown",
   "id": "6143bccb",
   "metadata": {},
   "source": [
    "Ans:\n",
    "To \"pretty print\" dictionary values in Python, you can use the pprint module's pprint() function."
   ]
  },
  {
   "cell_type": "code",
   "execution_count": 15,
   "id": "6f1fdc8a",
   "metadata": {},
   "outputs": [],
   "source": [
    "import pprint\n",
    "my_dict = [ {'Name': 'Krish Naik', 'Age': '32', 'Designation': 'Data scientist'},\n",
    "  {'Name': 'Sunny Savita', 'Age': '25', 'Designation': 'Data scientist'},\n",
    "  {'Name': 'Aadil Hussain', 'Age': '21', 'Designation': 'Data scientist'},\n",
    "  {'Name': 'Tahir Iqbal', 'Age': '21', 'Designation': 'Web Developer'}\n",
    "]"
   ]
  },
  {
   "cell_type": "code",
   "execution_count": 16,
   "id": "64641b70",
   "metadata": {},
   "outputs": [
    {
     "name": "stdout",
     "output_type": "stream",
     "text": [
      "[{'Age': '32', 'Designation': 'Data scientist', 'Name': 'Krish Naik'},\n",
      " {'Age': '25', 'Designation': 'Data scientist', 'Name': 'Sunny Savita'},\n",
      " {'Age': '21', 'Designation': 'Data scientist', 'Name': 'Aadil Hussain'},\n",
      " {'Age': '21', 'Designation': 'Web Developer', 'Name': 'Tahir Iqbal'}]\n"
     ]
    }
   ],
   "source": [
    "# printing with pprint()\n",
    "pprint.pprint(my_dict)"
   ]
  },
  {
   "cell_type": "code",
   "execution_count": 18,
   "id": "f911aeb3",
   "metadata": {},
   "outputs": [
    {
     "name": "stdout",
     "output_type": "stream",
     "text": [
      "[{'Name': 'Krish Naik', 'Age': '32', 'Designation': 'Data scientist'}, {'Name': 'Sunny Savita', 'Age': '25', 'Designation': 'Data scientist'}, {'Name': 'Aadil Hussain', 'Age': '21', 'Designation': 'Data scientist'}, {'Name': 'Tahir Iqbal', 'Age': '21', 'Designation': 'Web Developer'}]\n"
     ]
    }
   ],
   "source": [
    "# printing with print()\n",
    "print(my_dict)"
   ]
  },
  {
   "cell_type": "code",
   "execution_count": null,
   "id": "5e82c423",
   "metadata": {},
   "outputs": [],
   "source": []
  }
 ],
 "metadata": {
  "kernelspec": {
   "display_name": "Python 3 (ipykernel)",
   "language": "python",
   "name": "python3"
  },
  "language_info": {
   "codemirror_mode": {
    "name": "ipython",
    "version": 3
   },
   "file_extension": ".py",
   "mimetype": "text/x-python",
   "name": "python",
   "nbconvert_exporter": "python",
   "pygments_lexer": "ipython3",
   "version": "3.9.12"
  }
 },
 "nbformat": 4,
 "nbformat_minor": 5
}

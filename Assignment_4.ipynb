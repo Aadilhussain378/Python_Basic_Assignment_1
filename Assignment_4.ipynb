{
 "cells": [
  {
   "cell_type": "markdown",
   "id": "ebf39501",
   "metadata": {},
   "source": [
    " Assignment_no.----4\n",
    "\n",
    "Submitted by Aadil Hussain teeli"
   ]
  },
  {
   "cell_type": "markdown",
   "id": "00780db8",
   "metadata": {},
   "source": [
    "# 1. What exactly is []?"
   ]
  },
  {
   "cell_type": "markdown",
   "id": "390ccbba",
   "metadata": {},
   "source": [
    "Ans:\n",
    "    In Python, [] represents an empty list.A list is a built-in data structure in Python used to store a collection of items. You can think of it as a sequence of elements that are enclosed within square brackets [] and separated by commas."
   ]
  },
  {
   "cell_type": "code",
   "execution_count": 4,
   "id": "cbfa883d",
   "metadata": {},
   "outputs": [
    {
     "data": {
      "text/plain": [
       "list"
      ]
     },
     "execution_count": 4,
     "metadata": {},
     "output_type": "execute_result"
    }
   ],
   "source": [
    "type([])"
   ]
  },
  {
   "cell_type": "markdown",
   "id": "63fe1412",
   "metadata": {},
   "source": [
    "## 2. In a list of values stored in a variable called spam, how would you assign the value 'hello' as the third value? (Assume [2, 4, 6, 8, 10] are in spam.)"
   ]
  },
  {
   "cell_type": "markdown",
   "id": "8a0d7023",
   "metadata": {},
   "source": [
    "Ans:\n",
    "    To assign the value 'hello' as the third value in the list stored in the variable spam, we can use the index position to replace the existing value at that position."
   ]
  },
  {
   "cell_type": "code",
   "execution_count": 7,
   "id": "deb24b68",
   "metadata": {},
   "outputs": [
    {
     "name": "stdout",
     "output_type": "stream",
     "text": [
      "[2, 4, 'hello', 8, 10]\n"
     ]
    }
   ],
   "source": [
    "spam=[2, 4, 6, 8, 10]\n",
    "\n",
    "spam[2]='hello'\n",
    "\n",
    "print(spam)"
   ]
  },
  {
   "cell_type": "markdown",
   "id": "d5cb3423",
   "metadata": {},
   "source": [
    "# Let's pretend the spam includes the list ['a','b','c','d'] for the next three queries."
   ]
  },
  {
   "cell_type": "markdown",
   "id": "d4b0f4b5",
   "metadata": {},
   "source": [
    "# 3. What is the value of spam[int(int('3'*2)/11]?"
   ]
  },
  {
   "cell_type": "markdown",
   "id": "fd90b56f",
   "metadata": {},
   "source": [
    "Ans:\n",
    "    The answer is 'd'"
   ]
  },
  {
   "cell_type": "code",
   "execution_count": 11,
   "id": "999a8301",
   "metadata": {},
   "outputs": [
    {
     "name": "stdout",
     "output_type": "stream",
     "text": [
      "d\n"
     ]
    }
   ],
   "source": [
    "spam=['a','b','c','d']\n",
    "print(spam[int(int('3'*2)/11)])"
   ]
  },
  {
   "cell_type": "markdown",
   "id": "a5f4eb71",
   "metadata": {},
   "source": [
    "# 4. What is the value of spam[-1]?"
   ]
  },
  {
   "cell_type": "markdown",
   "id": "ca9e75f7",
   "metadata": {},
   "source": [
    "Ans:\n",
    "    Here we are doing the neigative slicing so  the answer will be 'd'"
   ]
  },
  {
   "cell_type": "code",
   "execution_count": 13,
   "id": "6e4ee691",
   "metadata": {},
   "outputs": [
    {
     "data": {
      "text/plain": [
       "'d'"
      ]
     },
     "execution_count": 13,
     "metadata": {},
     "output_type": "execute_result"
    }
   ],
   "source": [
    "spam[-1]"
   ]
  },
  {
   "cell_type": "markdown",
   "id": "4f597ef0",
   "metadata": {},
   "source": [
    "# 5. What is the value of spam[:2]?"
   ]
  },
  {
   "cell_type": "markdown",
   "id": "180ceddf",
   "metadata": {},
   "source": [
    "Ans:\n",
    "    This will return a sublist containing the elements from the beginning up to (but not including) the element at index 2.\n",
    "    \n",
    " so the answer will be ['a', 'b']"
   ]
  },
  {
   "cell_type": "code",
   "execution_count": 16,
   "id": "4a5d5fb7",
   "metadata": {},
   "outputs": [
    {
     "data": {
      "text/plain": [
       "['a', 'b']"
      ]
     },
     "execution_count": 16,
     "metadata": {},
     "output_type": "execute_result"
    }
   ],
   "source": [
    "spam[:2]"
   ]
  },
  {
   "cell_type": "markdown",
   "id": "86c75dff",
   "metadata": {},
   "source": [
    "## Let's pretend bacon has the list [3.14, 'cat',11,'cat', True] for the next three questions."
   ]
  },
  {
   "cell_type": "markdown",
   "id": "f5caf50c",
   "metadata": {},
   "source": [
    "# 6. What is the value of bacon.index('cat')?"
   ]
  },
  {
   "cell_type": "markdown",
   "id": "87948065",
   "metadata": {},
   "source": [
    "Ans:\n",
    "    The answer will be one, because it is stored at index 1"
   ]
  },
  {
   "cell_type": "code",
   "execution_count": 18,
   "id": "e9dbfd3f",
   "metadata": {},
   "outputs": [],
   "source": [
    "bacon=[3.14, 'cat',11,'cat', True]  "
   ]
  },
  {
   "cell_type": "code",
   "execution_count": 20,
   "id": "6f96088e",
   "metadata": {},
   "outputs": [
    {
     "data": {
      "text/plain": [
       "1"
      ]
     },
     "execution_count": 20,
     "metadata": {},
     "output_type": "execute_result"
    }
   ],
   "source": [
    "bacon.index('cat')"
   ]
  },
  {
   "cell_type": "markdown",
   "id": "8da40d12",
   "metadata": {},
   "source": [
    "# 7. How does bacon.append(99) change the look of the list value in bacon?"
   ]
  },
  {
   "cell_type": "markdown",
   "id": "56c20894",
   "metadata": {},
   "source": [
    "ANs:\n",
    "    When we use the append() method on the list bacon with the value 99, it will add the integer 99 to the end of the list."
   ]
  },
  {
   "cell_type": "code",
   "execution_count": 21,
   "id": "14f25dd9",
   "metadata": {},
   "outputs": [
    {
     "name": "stdout",
     "output_type": "stream",
     "text": [
      "[3.14, 'cat', 11, 'cat', True, 99]\n"
     ]
    }
   ],
   "source": [
    "bacon.append(99)\n",
    "print(bacon) "
   ]
  },
  {
   "cell_type": "markdown",
   "id": "ef0de8f6",
   "metadata": {},
   "source": [
    "# 8. How does bacon.remove('cat') change the look of the list in bacon?"
   ]
  },
  {
   "cell_type": "markdown",
   "id": "4626fc80",
   "metadata": {},
   "source": [
    "Ans:\n",
    "    When we use the remove() method on the list bacon to remove the value 'cat', it will remove the first occurrence of 'cat' from the list."
   ]
  },
  {
   "cell_type": "code",
   "execution_count": 23,
   "id": "4e348b80",
   "metadata": {},
   "outputs": [
    {
     "name": "stdout",
     "output_type": "stream",
     "text": [
      "[3.14, 11, 'cat', True, 99]\n"
     ]
    }
   ],
   "source": [
    "bacon.remove('cat')\n",
    "print(bacon)"
   ]
  },
  {
   "cell_type": "markdown",
   "id": "2353ab1f",
   "metadata": {},
   "source": [
    "# 9. What are the list concatenation and list replication operators?"
   ]
  },
  {
   "cell_type": "markdown",
   "id": "70c53ce7",
   "metadata": {},
   "source": [
    "Ans:\n",
    "    The list concatenation operator is +, and the list replication operator is *.\n",
    "- The + operator allows you to concatenate two or more lists, resulting in a new list that contains all the elements from the original lists in the order they appear.\n",
    "\n",
    "- The * operator, when used with a list and an integer, replicates the list elements a specified number of times, producing a new list."
   ]
  },
  {
   "cell_type": "code",
   "execution_count": 26,
   "id": "cb4f94d9",
   "metadata": {},
   "outputs": [
    {
     "name": "stdout",
     "output_type": "stream",
     "text": [
      "concatenated_list is [1, 2, 3, 4, 5, 6]\n",
      "Replicated list1 is [1, 2, 3, 1, 2, 3, 1, 2, 3]\n"
     ]
    }
   ],
   "source": [
    "list1=[1,2,3]\n",
    "list2=[4,5,6]\n",
    "concatenated_list = list1 + list2\n",
    "replicated_list = list1 * 3 \n",
    "print(f\"concatenated_list is {concatenated_list}\")\n",
    "print(f\"Replicated list1 is {replicated_list}\")"
   ]
  },
  {
   "cell_type": "markdown",
   "id": "995d66f1",
   "metadata": {},
   "source": [
    "# 10. What is difference between the list methods append() and insert()?"
   ]
  },
  {
   "cell_type": "markdown",
   "id": "388f28ee",
   "metadata": {},
   "source": [
    "Ans:\n",
    "- The append() method is used to add an element to the end of a list.\n",
    "- The insert() method is used to insert an element at a specified position in a list."
   ]
  },
  {
   "cell_type": "code",
   "execution_count": 27,
   "id": "209016e8",
   "metadata": {},
   "outputs": [
    {
     "name": "stdout",
     "output_type": "stream",
     "text": [
      "[1, 2, 3, 4]\n"
     ]
    }
   ],
   "source": [
    "list1=[1,2,3]\n",
    "\n",
    "list1.append(4)\n",
    "print(list1)"
   ]
  },
  {
   "cell_type": "code",
   "execution_count": 28,
   "id": "992af56d",
   "metadata": {},
   "outputs": [
    {
     "name": "stdout",
     "output_type": "stream",
     "text": [
      "[10, 1, 2, 3, 4]\n"
     ]
    }
   ],
   "source": [
    "list1.insert(0,10)\n",
    "print(list1)"
   ]
  },
  {
   "cell_type": "markdown",
   "id": "60f4c5a0",
   "metadata": {},
   "source": [
    "# 11. What are the two methods for removing items from a list?"
   ]
  },
  {
   "cell_type": "markdown",
   "id": "0e6e585d",
   "metadata": {},
   "source": [
    "Ans:\n",
    "    There are two methods commonly used for removing items from a list:\n",
    "        \n",
    "- remove() Method:  The remove() method removes the first occurrence of a specified value from the list.\n",
    "- pop() Method: The pop() method removes and returns the element at a specified index."
   ]
  },
  {
   "cell_type": "code",
   "execution_count": 29,
   "id": "56a44e7b",
   "metadata": {},
   "outputs": [
    {
     "name": "stdout",
     "output_type": "stream",
     "text": [
      "[1, 3, 4, 2]\n"
     ]
    }
   ],
   "source": [
    "my_list = [1, 2, 3, 4, 2]\n",
    "\n",
    "my_list.remove(2)\n",
    "print(my_list)  "
   ]
  },
  {
   "cell_type": "code",
   "execution_count": 30,
   "id": "cd210991",
   "metadata": {},
   "outputs": [
    {
     "name": "stdout",
     "output_type": "stream",
     "text": [
      "3\n",
      "[1, 4, 2]\n"
     ]
    }
   ],
   "source": [
    "popped_element = my_list.pop(1)\n",
    "print(popped_element)\n",
    "print(my_list)"
   ]
  },
  {
   "cell_type": "markdown",
   "id": "6948c51c",
   "metadata": {},
   "source": [
    "# 12. Describe how list values and string values are identical."
   ]
  },
  {
   "cell_type": "markdown",
   "id": "9926cc90",
   "metadata": {},
   "source": [
    "Ans:\n",
    "    Both lists and strings in Python support indexing, slicing, and are iterable. Lists are mutable, allowing modification of elements, while strings are immutable. Examples: my_list[0] accesses the first element of a list, and my_string[1:4] extracts characters from index 1 to 3 in a string."
   ]
  },
  {
   "cell_type": "markdown",
   "id": "eb972bbf",
   "metadata": {},
   "source": [
    "# 13. What's the difference between tuples and lists?"
   ]
  },
  {
   "cell_type": "markdown",
   "id": "9eb06823",
   "metadata": {},
   "source": [
    "Ans:\n",
    "Tuples and lists are both sequential data structures in Python, but they have fundamental differences:\n",
    "\n",
    "1. Mutability:\n",
    "- Lists: Lists are mutable, meaning their elements can be modified, added, or removed after the list is created.\n",
    "- Tuples: Tuples are immutable; once a tuple is created, you cannot modify its elements. However, you can create a new tuple by combining or slicing existing tuples.\n",
    "\n",
    "2. Syntax:\n",
    "- Lists: Lists are defined using square brackets [ ].\n",
    "- Tuples: Tuples are defined using parentheses ( ) or even without any delimiter in some contexts."
   ]
  },
  {
   "cell_type": "code",
   "execution_count": 31,
   "id": "1b9713c7",
   "metadata": {},
   "outputs": [
    {
     "name": "stdout",
     "output_type": "stream",
     "text": [
      "<class 'list'>\n",
      "<class 'tuple'>\n"
     ]
    }
   ],
   "source": [
    "my_list = [1, 2, 3]\n",
    "my_tuple = (4,5,6)\n",
    "\n",
    "print(type(my_list))\n",
    "print(type(my_tuple))"
   ]
  },
  {
   "cell_type": "markdown",
   "id": "b918e67c",
   "metadata": {},
   "source": [
    "# 14. How do you type a tuple value that only contains the integer 42?"
   ]
  },
  {
   "cell_type": "markdown",
   "id": "02813a52",
   "metadata": {},
   "source": [
    "Ans:\n",
    "To create a tuple with the integer 42, we can enclose it within parentheses. Here's how we can type a tuple with the value 42\n",
    "\n",
    "my_tuple = (42,)"
   ]
  },
  {
   "cell_type": "code",
   "execution_count": 32,
   "id": "28c63702",
   "metadata": {},
   "outputs": [
    {
     "name": "stdout",
     "output_type": "stream",
     "text": [
      "<class 'int'>\n",
      "<class 'tuple'>\n"
     ]
    }
   ],
   "source": [
    "tuple1=(42)\n",
    "tuple2=(42,)\n",
    "print(type(tuple1))\n",
    "print(type(tuple2))"
   ]
  },
  {
   "cell_type": "markdown",
   "id": "18fcd268",
   "metadata": {},
   "source": [
    "# 15. How do you get a list value&#39;s tuple form? How do you get a tuple value&#39;s list form?"
   ]
  },
  {
   "cell_type": "markdown",
   "id": "b64d0345",
   "metadata": {},
   "source": [
    "Ans:\n",
    "    \n",
    "To convert a list to a tuple, we can use the built-in tuple() function. Conversely, to convert a tuple to a list, we can use the built-in list() function."
   ]
  },
  {
   "cell_type": "code",
   "execution_count": 34,
   "id": "317b5636",
   "metadata": {},
   "outputs": [
    {
     "name": "stdout",
     "output_type": "stream",
     "text": [
      "(1, 2, 3)\n",
      "<class 'tuple'>\n"
     ]
    }
   ],
   "source": [
    "my_list = [1, 2, 3]\n",
    "tup = tuple(my_list)\n",
    "print(tup)\n",
    "print(type(tup))"
   ]
  },
  {
   "cell_type": "code",
   "execution_count": 36,
   "id": "0b1eb76b",
   "metadata": {},
   "outputs": [
    {
     "name": "stdout",
     "output_type": "stream",
     "text": [
      "[1, 2, 3]\n",
      "<class 'list'>\n"
     ]
    }
   ],
   "source": [
    "my_tuple = (1, 2, 3)\n",
    "lst = list(my_tuple)\n",
    "print(lst)\n",
    "print(type(lst))"
   ]
  },
  {
   "cell_type": "markdown",
   "id": "55ec47c1",
   "metadata": {},
   "source": [
    "# 16. Variables that &quot;contain&quot; list values are not necessarily lists themselves. Instead, what do they contain?"
   ]
  },
  {
   "cell_type": "markdown",
   "id": "5783530f",
   "metadata": {},
   "source": [
    "Ans:\n",
    "    Variables that \"contain\" list values in Python do not store the list directly but rather store a reference to the list object in memory. In other words, the variables contain memory addresses pointing to the locations where the list data is stored. This concept applies to all mutable objects in Python, including lists."
   ]
  },
  {
   "cell_type": "markdown",
   "id": "c9cec86c",
   "metadata": {},
   "source": [
    "# 17. How do you distinguish between copy.copy() and copy.deepcopy()?"
   ]
  },
  {
   "cell_type": "markdown",
   "id": "81f0d8e3",
   "metadata": {},
   "source": [
    "- copy.copy() makes a copy that shares inner objects, like pointers to lists. Changing a shared inner object affects both the original and the copy. \n",
    "- copy.deepcopy() makes a full independent copy, so changes to one don't affect the other. This difference shows how they handle nested objects."
   ]
  },
  {
   "cell_type": "code",
   "execution_count": 2,
   "id": "176f8c6f",
   "metadata": {},
   "outputs": [
    {
     "name": "stdout",
     "output_type": "stream",
     "text": [
      "[[99, 2, 3], [4, 5, 6]]\n",
      "[[99, 2, 3], [4, 5, 6]]\n",
      "[[90, 2, 3], [4, 5, 6]]\n"
     ]
    }
   ],
   "source": [
    "import copy\n",
    "original_list = [[1, 2, 3], [4, 5, 6]]\n",
    "\n",
    "# Shallow copy\n",
    "shallow_copy_list = copy.copy(original_list)\n",
    "\n",
    "# Deep copy\n",
    "deep_copy_list = copy.deepcopy(original_list)\n",
    "\n",
    "# Modify inner list in shallow copy\n",
    "shallow_copy_list[0][0] = 99\n",
    "\n",
    "# Modify inner list in deep copy\n",
    "deep_copy_list[0][0] = 90\n",
    "\n",
    "print(original_list)       \n",
    "print(shallow_copy_list)  \n",
    "print(deep_copy_list)        "
   ]
  },
  {
   "cell_type": "code",
   "execution_count": null,
   "id": "b8b2d40d",
   "metadata": {},
   "outputs": [],
   "source": []
  }
 ],
 "metadata": {
  "kernelspec": {
   "display_name": "Python 3 (ipykernel)",
   "language": "python",
   "name": "python3"
  },
  "language_info": {
   "codemirror_mode": {
    "name": "ipython",
    "version": 3
   },
   "file_extension": ".py",
   "mimetype": "text/x-python",
   "name": "python",
   "nbconvert_exporter": "python",
   "pygments_lexer": "ipython3",
   "version": "3.9.12"
  }
 },
 "nbformat": 4,
 "nbformat_minor": 5
}

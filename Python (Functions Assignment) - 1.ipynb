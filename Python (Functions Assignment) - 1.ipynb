{
 "cells": [
  {
   "cell_type": "markdown",
   "id": "e4ed3d2c",
   "metadata": {},
   "source": [
    "Assignment_ Python (Functions Assignment) - 1\n",
    "\n",
    "Submitted by Aadil Hussain Teeli"
   ]
  },
  {
   "cell_type": "markdown",
   "id": "9b460597",
   "metadata": {},
   "source": [
    "# 1. In Python, what is the difference between a built-in function and a user-defined function? Provide an example of each."
   ]
  },
  {
   "cell_type": "markdown",
   "id": "0844b9e2",
   "metadata": {},
   "source": [
    "Ans:\n",
    "    A built-in function in Python is a function that is predefined in the Python interpreter, meaning you don't have to define it yourself. These functions are available for use without the need for any additional code or imports.\n",
    "\n",
    "Examples of built-in functions in Python include print(), len(), type(), max(), min(), sum(), range(), etc."
   ]
  },
  {
   "cell_type": "code",
   "execution_count": 1,
   "id": "265bc160",
   "metadata": {},
   "outputs": [
    {
     "name": "stdout",
     "output_type": "stream",
     "text": [
      "This is build in function\n"
     ]
    }
   ],
   "source": [
    "# Example\n",
    "print(\"This is build in function\")"
   ]
  },
  {
   "cell_type": "markdown",
   "id": "44ba13e5",
   "metadata": {},
   "source": [
    "User-Defined Function:\n",
    "A user-defined function in Python is a function that you define yourself using the def keyword. These functions are created to perform specific tasks and can be reused throughout your code. "
   ]
  },
  {
   "cell_type": "code",
   "execution_count": 3,
   "id": "39321bab",
   "metadata": {},
   "outputs": [
    {
     "data": {
      "text/plain": [
       "3"
      ]
     },
     "execution_count": 3,
     "metadata": {},
     "output_type": "execute_result"
    }
   ],
   "source": [
    "# Example\n",
    "def sum(a,b):\n",
    "    return a+b\n",
    "sum(1,2)"
   ]
  },
  {
   "cell_type": "markdown",
   "id": "7c3ea02c",
   "metadata": {},
   "source": [
    "# 2. How can you pass arguments to a function in Python? Explain the difference between positional arguments and keyword arguments."
   ]
  },
  {
   "cell_type": "markdown",
   "id": "f24ba13c",
   "metadata": {},
   "source": [
    "Ans:\n",
    "    The difference between positional and keyword arguments are:\n",
    "Positional Arguments:\n",
    "\n",
    "- Arguments are passed based on their order.\n",
    "- The number and order of arguments during the function call must match the function definition.\n",
    "- Less flexible in terms of argument order.\n",
    "\n",
    "Keyword Arguments:\n",
    "- Arguments are passed using the parameter names.\n",
    "- You can pass arguments in any order, making it more flexible and readable.\n",
    "- Helps in improving code readability and understanding.\n",
    "        "
   ]
  },
  {
   "cell_type": "code",
   "execution_count": 4,
   "id": "d5eb9351",
   "metadata": {},
   "outputs": [
    {
     "name": "stdout",
     "output_type": "stream",
     "text": [
      "Hello, Krish! How are you?\n"
     ]
    }
   ],
   "source": [
    "# Example-- function takes two positional arguments\n",
    "def greet(name, message):\n",
    "    return f\"Hello, {name}! {message}\"\n",
    "\n",
    "# Calling the function with positional arguments\n",
    "print(greet(\"Krish\", \"How are you?\"))  "
   ]
  },
  {
   "cell_type": "code",
   "execution_count": 5,
   "id": "432f518e",
   "metadata": {},
   "outputs": [
    {
     "name": "stdout",
     "output_type": "stream",
     "text": [
      "Hello, Krish! How are you?\n"
     ]
    }
   ],
   "source": [
    "# Example-- function takes two keyword arguments\n",
    "def greet(name, message):\n",
    "    return f\"Hello, {name}! {message}\"\n",
    "\n",
    "# Calling the function with keyword arguments\n",
    "print(greet(message=\"How are you?\", name=\"Krish\")) "
   ]
  },
  {
   "cell_type": "markdown",
   "id": "f06b2d49",
   "metadata": {},
   "source": [
    "# 3. What is the purpose of the return statement in a function? Can a function have multiple return statements? Explain with an example."
   ]
  },
  {
   "cell_type": "markdown",
   "id": "ec078677",
   "metadata": {},
   "source": [
    "Ans:\n",
    "     When a return statement is executed, the function execution is terminated, and the flow of control returns to the point from where the function was called, along with the value (if specified) that is passed back to the caller.\n",
    "\n",
    "Yes, a function can have multiple return statements. However, once a return statement is encountered and executed within the function, the function's execution stops, and the value is returned to the caller. This means that any code after the return statement(s) will not be executed."
   ]
  },
  {
   "cell_type": "code",
   "execution_count": 7,
   "id": "2d4f54b4",
   "metadata": {},
   "outputs": [
    {
     "name": "stdout",
     "output_type": "stream",
     "text": [
      "A\n",
      "B\n",
      "D\n",
      "F\n"
     ]
    }
   ],
   "source": [
    "def determine_grade(score):\n",
    "    if score >= 90:\n",
    "        return 'A'\n",
    "    elif score >= 80:\n",
    "        return 'B'\n",
    "    elif score >= 70:\n",
    "        return 'C'\n",
    "    elif score >= 60:\n",
    "        return 'D'\n",
    "    else:\n",
    "        return 'F'\n",
    "\n",
    "\n",
    "print(determine_grade(95))  \n",
    "print(determine_grade(82)) \n",
    "print(determine_grade(68)) \n",
    "print(determine_grade(55))  "
   ]
  },
  {
   "cell_type": "markdown",
   "id": "3512acf2",
   "metadata": {},
   "source": [
    "# 4. What are lambda functions in Python? How are they different from regular functions? Provide an example where a lambda function can be useful."
   ]
  },
  {
   "cell_type": "markdown",
   "id": "0af61c48",
   "metadata": {},
   "source": [
    "Ans:\n",
    "\n",
    "Lambda Functions:\n",
    "\n",
    "- Lambda Functions are Small, anonymous functions defined using the lambda keyword.\n",
    "- They are designed for short and maily for simple operations.\n",
    "- They are useful for tasks that require a function but do not need a named function.\n",
    "\n",
    "Regular Functions:\n",
    "\n",
    "- They are defined using the def keyword.\n",
    "- Regular Functions Can be more complex and can contain multiple statements.\n",
    "- They are used for more extensive and named operations."
   ]
  },
  {
   "cell_type": "code",
   "execution_count": 9,
   "id": "215ead07",
   "metadata": {},
   "outputs": [
    {
     "name": "stdout",
     "output_type": "stream",
     "text": [
      "[('Aadil', 21), ('Shahid', 22), ('Ubaid', 23), ('Mudasir', 25)]\n"
     ]
    }
   ],
   "source": [
    "Students = [('Aadil', 21), ('Mudasir', 25), ('Ubaid', 23), ('Shahid', 22)]\n",
    "\n",
    "sorted_students=sorted(Students, key=lambda x: x[1])\n",
    "\n",
    "print(sorted_students)"
   ]
  },
  {
   "cell_type": "markdown",
   "id": "9010b611",
   "metadata": {},
   "source": [
    "# 5. How does the concept of \"scope\" apply to functions in Python? Explain the difference between local scope and global scope."
   ]
  },
  {
   "cell_type": "markdown",
   "id": "3029aa74",
   "metadata": {},
   "source": [
    "Ans:\n",
    "    The concept of \"scope\" refers to the region or context in which a variable or name is recognized and can be accessed. Scopes determine the visibility and accessibility of variables, functions, and other identifiers within a program.\n",
    "    \n",
    "    \n",
    "<strong>Difference between local scope and global scope:</strong>\n",
    "\n",
    "<strong>Local Scope (Function Scope):</strong>\n",
    "\n",
    "- Variables defined inside a function have a local scope. This means they are only accessible within that function.\n",
    "- Local variables are created when the function is called and are destroyed when the function completes execution.\n",
    "- Trying to access a local variable outside its function will result in a NameError.\n",
    "\n",
    "\n",
    "<strong>Global Scope:</strong>\n",
    "\n",
    "- Variables defined outside any function or in the main body of a script have a global scope. This means they can be accessed from any part of the program, including inside functions.\n",
    "- Global variables remain available until the program terminates or the variable is explicitly deleted.\n",
    "- If a variable is modified inside a function without declaring it as global, a new local variable with that name is created, shadowing the global variable."
   ]
  },
  {
   "cell_type": "markdown",
   "id": "08070d04",
   "metadata": {},
   "source": [
    "# 6. How can you use the \"return\" statement in a Python function to return multiple values?"
   ]
  },
  {
   "cell_type": "markdown",
   "id": "109bc060",
   "metadata": {},
   "source": [
    "Ans: We can use the \"return\" statement in a Python function to return multiple values by the folowing ways:  \n",
    "    "
   ]
  },
  {
   "cell_type": "code",
   "execution_count": 13,
   "id": "a73a0ea9",
   "metadata": {},
   "outputs": [
    {
     "name": "stdout",
     "output_type": "stream",
     "text": [
      "5\n",
      "10\n",
      "15\n"
     ]
    }
   ],
   "source": [
    "# Returning multiple values as a tuple\n",
    "def multiple_values():\n",
    "    a = 5\n",
    "    b = 10\n",
    "    c = 15\n",
    "    return (a, b, c) \n",
    "\n",
    "x,y,z= multiple_values()\n",
    "print(x)\n",
    "print(y)\n",
    "print(z)"
   ]
  },
  {
   "cell_type": "code",
   "execution_count": 15,
   "id": "59a22c67",
   "metadata": {},
   "outputs": [
    {
     "name": "stdout",
     "output_type": "stream",
     "text": [
      "[5, 10, 15]\n"
     ]
    }
   ],
   "source": [
    "# we can also use lists, dictionaries, or other collection types to return multiple values. \n",
    "\n",
    "def multiple_values2():\n",
    "    a = 5\n",
    "    b = 10\n",
    "    c = 15\n",
    "    return [a, b, c]\n",
    "my_list = multiple_values2()\n",
    "print(my_list)"
   ]
  },
  {
   "cell_type": "markdown",
   "id": "53dff35c",
   "metadata": {},
   "source": [
    "# 7. What is the difference between the \"pass by value\" and \"pass by reference\" concepts when it comes to function arguments in Python?"
   ]
  },
  {
   "cell_type": "markdown",
   "id": "f815cdb7",
   "metadata": {},
   "source": [
    "Ans:\n",
    "    Pass by Value: A copy of the value is passed to the function. Changes inside the function don't affect the original variable."
   ]
  },
  {
   "cell_type": "code",
   "execution_count": 1,
   "id": "2e8bfe8a",
   "metadata": {},
   "outputs": [
    {
     "name": "stdout",
     "output_type": "stream",
     "text": [
      "5\n"
     ]
    }
   ],
   "source": [
    "# Example\n",
    "def func(x):\n",
    "    x = x + 1\n",
    "    return x\n",
    "\n",
    "value = 5\n",
    "modified = func(value)\n",
    "print(value)"
   ]
  },
  {
   "cell_type": "markdown",
   "id": "aec5a9f4",
   "metadata": {},
   "source": [
    "Pass by Object Reference: A reference to the original object is passed. Changes inside the function may affect the original object if it's mutable."
   ]
  },
  {
   "cell_type": "code",
   "execution_count": 2,
   "id": "1c7878c9",
   "metadata": {},
   "outputs": [
    {
     "name": "stdout",
     "output_type": "stream",
     "text": [
      "[1, 2, 3, 4]\n"
     ]
    }
   ],
   "source": [
    "# Example\n",
    "def func2(lst):\n",
    "    lst.append(4)\n",
    "    return lst\n",
    "\n",
    "my_list = [1, 2, 3]\n",
    "func2(my_list)\n",
    "print(my_list) "
   ]
  },
  {
   "cell_type": "markdown",
   "id": "ab5d2f84",
   "metadata": {},
   "source": [
    "# 8. Create a function that can intake integer or decimal value and do following operations:\n",
    "a. Logarithmic function (log x)\n",
    "\n",
    "b. Exponential function (exp(x))\n",
    "\n",
    "c. Power function with base 2 (2*)\n",
    "\n",
    "d. Square root"
   ]
  },
  {
   "cell_type": "code",
   "execution_count": 8,
   "id": "bbff3441",
   "metadata": {},
   "outputs": [
    {
     "name": "stdout",
     "output_type": "stream",
     "text": [
      "logarithmic of 4 is 1.3863\n",
      "exponential of 4 is 54.5982\n",
      "power_of_two of 4 is 16.0000\n",
      "square_root of 4 is 2.0000\n"
     ]
    }
   ],
   "source": [
    "import math\n",
    "def func3(x):\n",
    "    results={\n",
    "        'logarithmic':math.log(x),\n",
    "        'exponential':math.exp(x),\n",
    "        'power_of_two': 2 ** x,\n",
    "        'square_root': math.sqrt(x)\n",
    "    }\n",
    "    return results\n",
    "\n",
    "value=4\n",
    "\n",
    "result=func3(value)\n",
    "\n",
    "for operation, result in result.items():\n",
    "    print(f\"{operation} of {value} is {result:.4f}\")\n",
    "\n"
   ]
  },
  {
   "cell_type": "markdown",
   "id": "144baa56",
   "metadata": {},
   "source": [
    "# 9. Create a function that takes a full name as an argument and returns first name and last name."
   ]
  },
  {
   "cell_type": "code",
   "execution_count": 11,
   "id": "010e0c6d",
   "metadata": {},
   "outputs": [
    {
     "name": "stdout",
     "output_type": "stream",
     "text": [
      "Enter full name I will give you first name and last nameAadil Hussain\n",
      "First name---:Aadil\n",
      "Last name---:Hussain\n"
     ]
    }
   ],
   "source": [
    "def extract_name(full_name):\n",
    "    name_parts=full_name.split()\n",
    "    \n",
    "    first_name=name_parts[0]\n",
    "    last_name=name_parts[-1] if len(name_parts) > 1 else ''\n",
    "    return first_name,last_name\n",
    "\n",
    "name=input('Enter full name I will give you first name and last name')\n",
    "fname,lname=extract_name(name)\n",
    "print(f\"First name---:{fname}\")\n",
    "print(f\"Last name---:{lname}\")"
   ]
  },
  {
   "cell_type": "code",
   "execution_count": null,
   "id": "209641bf",
   "metadata": {},
   "outputs": [],
   "source": []
  }
 ],
 "metadata": {
  "kernelspec": {
   "display_name": "Python 3 (ipykernel)",
   "language": "python",
   "name": "python3"
  },
  "language_info": {
   "codemirror_mode": {
    "name": "ipython",
    "version": 3
   },
   "file_extension": ".py",
   "mimetype": "text/x-python",
   "name": "python",
   "nbconvert_exporter": "python",
   "pygments_lexer": "ipython3",
   "version": "3.9.12"
  }
 },
 "nbformat": 4,
 "nbformat_minor": 5
}

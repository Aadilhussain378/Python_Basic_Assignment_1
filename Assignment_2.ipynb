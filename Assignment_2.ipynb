{
 "cells": [
  {
   "cell_type": "markdown",
   "id": "c308c663",
   "metadata": {},
   "source": [
    "# Assignment No. 2"
   ]
  },
  {
   "cell_type": "markdown",
   "id": "0890c13b",
   "metadata": {},
   "source": [
    "# 1.What are the two values of the Boolean data type? How do you write them?"
   ]
  },
  {
   "cell_type": "markdown",
   "id": "07c345f0",
   "metadata": {},
   "source": [
    "Answer:\n",
    "\n",
    "    There are two values of the boolean data type: 0 and 1 which are \n",
    "    written as False and True respectively. Let us have python code for this as shown below:"
   ]
  },
  {
   "cell_type": "code",
   "execution_count": 1,
   "id": "5ef99a68",
   "metadata": {},
   "outputs": [
    {
     "name": "stdout",
     "output_type": "stream",
     "text": [
      "False\n",
      "True\n"
     ]
    }
   ],
   "source": [
    "x=False\n",
    "y=True\n",
    "print(x)\n",
    "print(y)"
   ]
  },
  {
   "cell_type": "code",
   "execution_count": 2,
   "id": "4a41b213",
   "metadata": {},
   "outputs": [
    {
     "name": "stdout",
     "output_type": "stream",
     "text": [
      "The data type of x is:  <class 'bool'>\n",
      "The data type of y is:  <class 'bool'>\n"
     ]
    }
   ],
   "source": [
    "# Defining the type of the x and y using type() function\n",
    "print(\"The data type of x is: \",type(x))\n",
    "print(\"The data type of y is: \",type(y))"
   ]
  },
  {
   "cell_type": "markdown",
   "id": "9de7ab4d",
   "metadata": {},
   "source": [
    "# 2. What are the three different types of Boolean operators?"
   ]
  },
  {
   "cell_type": "markdown",
   "id": "9934c8e4",
   "metadata": {},
   "source": [
    "Answer:\n",
    "    \n",
    "    Three different types of Boolean operators are : and, or and not\n",
    "    Let us illustrate them with the help of example shown below\n",
    "    "
   ]
  },
  {
   "cell_type": "markdown",
   "id": "7d00f3b5",
   "metadata": {},
   "source": [
    "1.  'and' operator :\n",
    "    \n",
    "   The 'and' operator returns true if both of its operands are true.For example\n"
   ]
  },
  {
   "cell_type": "code",
   "execution_count": 3,
   "id": "2bc06722",
   "metadata": {},
   "outputs": [
    {
     "name": "stdout",
     "output_type": "stream",
     "text": [
      "False\n",
      "False\n",
      "False\n",
      "True\n"
     ]
    }
   ],
   "source": [
    "a= True\n",
    "b=False\n",
    "c=False\n",
    "d=True\n",
    "print(a and b)  # this will print False\n",
    "print(b and c)   # this will print False\n",
    "print(c and d)   # this will print False\n",
    "print(a and d)  # this will print True"
   ]
  },
  {
   "cell_type": "markdown",
   "id": "cb4f73d1",
   "metadata": {},
   "source": [
    "2. ' or '  operator:\n",
    "    \n",
    "    The ' or ' operator returns  True if one of the operands is True. For Example "
   ]
  },
  {
   "cell_type": "code",
   "execution_count": 4,
   "id": "b1e10030",
   "metadata": {},
   "outputs": [
    {
     "name": "stdout",
     "output_type": "stream",
     "text": [
      "True\n",
      "False\n",
      "True\n",
      "True\n"
     ]
    }
   ],
   "source": [
    "a= True\n",
    "b=False\n",
    "c=False\n",
    "d=True\n",
    "print(a or b)  # this will print True\n",
    "print(b or c)   # this will print False\n",
    "print(c or d)   # this will print True\n",
    "print(a or d)  # this will print True"
   ]
  },
  {
   "cell_type": "markdown",
   "id": "9be41d87",
   "metadata": {},
   "source": [
    "3. ' not ' operator:\n",
    "    \n",
    "    the ' not ' operator negates or reverses the Boolean value of its operands.\n",
    "    i.e It returns True if its operand is False, and False if its operand is True."
   ]
  },
  {
   "cell_type": "code",
   "execution_count": 5,
   "id": "c1c3c4b7",
   "metadata": {},
   "outputs": [
    {
     "name": "stdout",
     "output_type": "stream",
     "text": [
      "False\n",
      "True\n"
     ]
    }
   ],
   "source": [
    "a= True\n",
    "b=False\n",
    "\n",
    "print(not a) # this will print False\n",
    "print(not b)  # this will print True"
   ]
  },
  {
   "cell_type": "markdown",
   "id": "2607b314",
   "metadata": {},
   "source": [
    "# 3. Make a list of each Boolean operator&#39;s truth tables (i.e. every possible combination of Boolean values for the operator and what it evaluate )."
   ]
  },
  {
   "cell_type": "markdown",
   "id": "03ec8d32",
   "metadata": {},
   "source": [
    "Answer:\n",
    "    \n",
    "    AS we have seen above:\n",
    "        \n",
    "        True and True is True.\n",
    "\n",
    "        True and False is False.\n",
    "\n",
    "        False and True is False.\n",
    "\n",
    "        False and False is False.\n",
    "\n",
    "        True or True is True.\n",
    "\n",
    "        True or False is True.\n",
    "\n",
    "        False or True is True.\n",
    "\n",
    "        False or False is False.\n",
    "\n",
    "        not True is False.\n",
    "\n",
    "        not False is True.\n",
    "        \n",
    "\n",
    "Let us make a list of each Boolean operators truth table by representing the\n",
    "False by 0 and true by 1.\n",
    "\n",
    "\n",
    "1:--- Truth table for ' and '  operator\n",
    "\n",
    "X        Y               output(X and Y)\n",
    "\n",
    "0        0                    0\n",
    "\n",
    "0        1                    0\n",
    "\n",
    "1        0                    0\n",
    "\n",
    "1        1                    1\n"
   ]
  },
  {
   "cell_type": "markdown",
   "id": "ecd3248b",
   "metadata": {},
   "source": [
    "\n",
    "\n",
    "2:---- Truth table for ' or '  operator\n",
    "\n",
    "\n",
    "X        Y               output(X or Y)\n",
    "\n",
    "0        0                    0\n",
    "\n",
    "0        1                    1\n",
    "\n",
    "1        0                    1\n",
    "\n",
    "1        1                    1"
   ]
  },
  {
   "cell_type": "markdown",
   "id": "e1d88f79",
   "metadata": {},
   "source": [
    "2:---- Truth table for ' not '  operator\n",
    "\n",
    "\n",
    "X                     output( not x)\n",
    "\n",
    "0                          1\n",
    "\n",
    "1                          0"
   ]
  },
  {
   "cell_type": "markdown",
   "id": "e9ab8eb3",
   "metadata": {},
   "source": [
    "# 4. What are the values of the following expressions?\n",
    "\n",
    "(5 &gt; 4) and (3 == 5)\n",
    "\n",
    "not (5 &gt; 4)\n",
    "\n",
    "(5 &gt; 4) or (3 == 5)\n",
    "\n",
    "not ((5 &gt; 4) or (3 == 5))\n",
    "\n",
    "(True and True) and (True == False)\n",
    "\n",
    "(not False) or (not True)"
   ]
  },
  {
   "cell_type": "markdown",
   "id": "16fa4d82",
   "metadata": {},
   "source": [
    "Answer:"
   ]
  },
  {
   "cell_type": "markdown",
   "id": "047022f5",
   "metadata": {},
   "source": [
    "The value of '(5 > 4) and (3 == 5)' is False, as shown below"
   ]
  },
  {
   "cell_type": "code",
   "execution_count": 6,
   "id": "474124e7",
   "metadata": {},
   "outputs": [
    {
     "name": "stdout",
     "output_type": "stream",
     "text": [
      "False\n"
     ]
    }
   ],
   "source": [
    "print((5 > 4) and (3 == 5))"
   ]
  },
  {
   "cell_type": "markdown",
   "id": "ccbe1839",
   "metadata": {},
   "source": [
    "The value of 'not (5 > 4)' is False, as shown below"
   ]
  },
  {
   "cell_type": "code",
   "execution_count": 7,
   "id": "7d16831f",
   "metadata": {},
   "outputs": [
    {
     "name": "stdout",
     "output_type": "stream",
     "text": [
      "False\n"
     ]
    }
   ],
   "source": [
    "print(not (5 > 4))"
   ]
  },
  {
   "cell_type": "markdown",
   "id": "47aa9ec6",
   "metadata": {},
   "source": [
    "The value of '(5 > 4) or (3 == 5)' is True, as shown below"
   ]
  },
  {
   "cell_type": "code",
   "execution_count": 8,
   "id": "1904d487",
   "metadata": {},
   "outputs": [
    {
     "name": "stdout",
     "output_type": "stream",
     "text": [
      "True\n"
     ]
    }
   ],
   "source": [
    "print((5 > 4) or (3 == 5))"
   ]
  },
  {
   "cell_type": "markdown",
   "id": "1a3aa136",
   "metadata": {},
   "source": [
    "The value of 'not ((5 > 4) or (3 == 5))' is False, as shown below"
   ]
  },
  {
   "cell_type": "code",
   "execution_count": 9,
   "id": "ab9eea4e",
   "metadata": {},
   "outputs": [
    {
     "name": "stdout",
     "output_type": "stream",
     "text": [
      "False\n"
     ]
    }
   ],
   "source": [
    "print(not ((5 > 4) or (3 == 5)))"
   ]
  },
  {
   "cell_type": "markdown",
   "id": "9c9e4387",
   "metadata": {},
   "source": [
    "The value of '(True and True) and (True == False)'  is  False, as shown below:"
   ]
  },
  {
   "cell_type": "code",
   "execution_count": 10,
   "id": "c4031367",
   "metadata": {},
   "outputs": [
    {
     "name": "stdout",
     "output_type": "stream",
     "text": [
      "False\n"
     ]
    }
   ],
   "source": [
    "print((True and True) and (True == False))"
   ]
  },
  {
   "cell_type": "markdown",
   "id": "6249a15e",
   "metadata": {},
   "source": [
    "The value of '(not False) or (not True)' is True, as shown below:"
   ]
  },
  {
   "cell_type": "code",
   "execution_count": 11,
   "id": "231903f5",
   "metadata": {},
   "outputs": [
    {
     "name": "stdout",
     "output_type": "stream",
     "text": [
      "True\n"
     ]
    }
   ],
   "source": [
    "print((not False) or (not True))"
   ]
  },
  {
   "cell_type": "markdown",
   "id": "150ea56b",
   "metadata": {},
   "source": [
    "# 5. What are the six comparison operators?"
   ]
  },
  {
   "cell_type": "markdown",
   "id": "1f20a154",
   "metadata": {},
   "source": [
    "Answer:\n",
    "    \n",
    "In python there are six comparison operators used to compare values. These operators return Boolean results (True or False) based on the comparison."
   ]
  },
  {
   "cell_type": "markdown",
   "id": "6ebe50f8",
   "metadata": {},
   "source": [
    "1:--- Equal to('=='):\n",
    "\n",
    "This operator checks if two values are equal, returns True if they are equal else False\n"
   ]
  },
  {
   "cell_type": "code",
   "execution_count": 12,
   "id": "532093b9",
   "metadata": {},
   "outputs": [
    {
     "name": "stdout",
     "output_type": "stream",
     "text": [
      "True\n",
      "False\n"
     ]
    }
   ],
   "source": [
    "x= 10\n",
    "y=10\n",
    "z=30\n",
    "print(x==y)  # returns true\n",
    "print(x==z)  # returns false\n",
    "\n"
   ]
  },
  {
   "cell_type": "markdown",
   "id": "b3426d4b",
   "metadata": {},
   "source": [
    "2:-- Not Equal to('!='):\n",
    "        \n",
    "This operator checks if two values are not equal, returns True if they are not equal else False"
   ]
  },
  {
   "cell_type": "code",
   "execution_count": 13,
   "id": "b012e428",
   "metadata": {},
   "outputs": [
    {
     "name": "stdout",
     "output_type": "stream",
     "text": [
      "False\n",
      "True\n"
     ]
    }
   ],
   "source": [
    "x= 10\n",
    "y=10\n",
    "z=30\n",
    "print(x!=y)  # returns false\n",
    "print(x!=z)  # returns true\n"
   ]
  },
  {
   "cell_type": "markdown",
   "id": "83435159",
   "metadata": {},
   "source": [
    "3:-- Greater than('>')\n",
    "    \n",
    "This operator checks if the left operand is greater than the right operand."
   ]
  },
  {
   "cell_type": "code",
   "execution_count": 14,
   "id": "cb1e27c1",
   "metadata": {},
   "outputs": [
    {
     "name": "stdout",
     "output_type": "stream",
     "text": [
      "False\n"
     ]
    }
   ],
   "source": [
    "x= 10\n",
    "y=30\n",
    "print(x > y)  # returns false"
   ]
  },
  {
   "cell_type": "markdown",
   "id": "586ae650",
   "metadata": {},
   "source": [
    "4:-- Less than('<')\n",
    "    \n",
    "This operator checks if the left operand is less than the right operand.\n",
    "\n"
   ]
  },
  {
   "cell_type": "code",
   "execution_count": 15,
   "id": "5a0787e2",
   "metadata": {},
   "outputs": [
    {
     "name": "stdout",
     "output_type": "stream",
     "text": [
      "True\n"
     ]
    }
   ],
   "source": [
    "x= 10\n",
    "y=30\n",
    "print(x < y)  # returns true"
   ]
  },
  {
   "cell_type": "markdown",
   "id": "2b6a673a",
   "metadata": {},
   "source": [
    "5:--Greater Than or Equal to (>=)\n",
    "    \n",
    "This operator checks if the left operand is greater or equal to the right operand."
   ]
  },
  {
   "cell_type": "code",
   "execution_count": 16,
   "id": "27f33154",
   "metadata": {},
   "outputs": [
    {
     "name": "stdout",
     "output_type": "stream",
     "text": [
      "False\n"
     ]
    }
   ],
   "source": [
    "x= 10\n",
    "y=30\n",
    "print(x >= y)  # returns false"
   ]
  },
  {
   "cell_type": "markdown",
   "id": "2b75baec",
   "metadata": {},
   "source": [
    "6:--Less Than or Equal to (<=)\n",
    "\n",
    "This operator checks if the left operand is less or equal to the right operand."
   ]
  },
  {
   "cell_type": "code",
   "execution_count": 17,
   "id": "011d9f0b",
   "metadata": {},
   "outputs": [
    {
     "name": "stdout",
     "output_type": "stream",
     "text": [
      "True\n"
     ]
    }
   ],
   "source": [
    "x= 10\n",
    "y=30\n",
    "print(x <= y)  # returns true"
   ]
  },
  {
   "cell_type": "markdown",
   "id": "b6ae30d9",
   "metadata": {},
   "source": [
    "# 6. How do you tell the difference between the equal to and assignment operators?Describe a condition and when you would use one."
   ]
  },
  {
   "cell_type": "markdown",
   "id": "fdaa2811",
   "metadata": {},
   "source": [
    "Answer:\n",
    "    \n",
    "Equal to operator(==) compares two value and checks whether they are equal or not.\n",
    "It evalutes to Boolean \"True\" or \"False\".\n",
    "\n",
    "While assignment (=) operator is used to assign a value to a variable.\n"
   ]
  },
  {
   "cell_type": "code",
   "execution_count": 18,
   "id": "a5c9e696",
   "metadata": {},
   "outputs": [
    {
     "name": "stdout",
     "output_type": "stream",
     "text": [
      "They are Equal\n",
      "----------------------------------------\n",
      "100\n"
     ]
    }
   ],
   "source": [
    "# For Example\n",
    "\n",
    "# Equal to(==) operator\n",
    "if 'a'=='a':\n",
    "      print(\"They are Equal\")\n",
    "else:\n",
    "    print(\"They are not equal\")\n",
    "    \n",
    "print(\"----------------------------------------\")\n",
    "\n",
    "# Assignment(=) operator\n",
    "\n",
    "x=100 # in this line we assigned 100 to the variable x using assignment operator\n",
    "\n",
    "print(x)"
   ]
  },
  {
   "cell_type": "markdown",
   "id": "811f4d80",
   "metadata": {},
   "source": [
    "7. Identify the three blocks in this code:\n",
    "    \n",
    "spam = 0\n",
    "\n",
    "if spam == 10:\n",
    "\n",
    "    print('eggs')\n",
    "\n",
    "if spam > 5:\n",
    "\n",
    "       print('bacon')\n",
    "\n",
    "else:\n",
    "\n",
    "        print('ham,)\n",
    "\n",
    "        print('spam')\n",
    "\n",
    "        print('spam')"
   ]
  },
  {
   "cell_type": "code",
   "execution_count": 19,
   "id": "431f6588",
   "metadata": {},
   "outputs": [
    {
     "name": "stdout",
     "output_type": "stream",
     "text": [
      "ham\n",
      "spam\n",
      "spam\n"
     ]
    }
   ],
   "source": [
    "#Answer:\n",
    "\n",
    "spam = 0\n",
    "if spam == 10:\n",
    "    print('eggs') #Block 1  (if_block)\n",
    "if spam > 5:\n",
    "    print('bacon') #Block 2  (if_block)\n",
    "else:\n",
    "    print('ham') #Block 3     (else_block)\n",
    "    print('spam')\n",
    "    print('spam')"
   ]
  },
  {
   "cell_type": "markdown",
   "id": "b7ecc4cd",
   "metadata": {},
   "source": [
    "# 8. Write code that prints Hello if 1 is stored in spam, prints Howdy if 2 is stored in spam, and prints Greetings! if anything else is stored in spam."
   ]
  },
  {
   "cell_type": "code",
   "execution_count": 20,
   "id": "bb11d284",
   "metadata": {},
   "outputs": [
    {
     "name": "stdout",
     "output_type": "stream",
     "text": [
      "Enter 1 if you want to print Hello, \n",
      "Enter 2 if you want to print  Howdy, \n",
      "Enter anythibg else if u want to print Greetings1\n",
      "Hello\n"
     ]
    }
   ],
   "source": [
    "spam= int(input(\"Enter 1 if you want to print Hello, \\nEnter 2 if you want to print  Howdy, \\nEnter anythibg else if u want to print Greetings\"))\n",
    "if spam==1:\n",
    "    print(\"Hello\")\n",
    "elif spam==2:\n",
    "    print(\"Howdy\")\n",
    "else:\n",
    "    print(\"Greetings!\")"
   ]
  },
  {
   "cell_type": "markdown",
   "id": "8caf7b96",
   "metadata": {},
   "source": [
    "# 9.If your programme is stuck in an endless loop, what keys you’ll press?"
   ]
  },
  {
   "cell_type": "markdown",
   "id": "cd374ea5",
   "metadata": {},
   "source": [
    "Answer:\n",
    "    \n",
    "If program is stuck in endless loop we will press ctrl+c."
   ]
  },
  {
   "cell_type": "markdown",
   "id": "497b9fa0",
   "metadata": {},
   "source": [
    "# 10. How can you tell the difference between break and continue?"
   ]
  },
  {
   "cell_type": "markdown",
   "id": "05dfe824",
   "metadata": {},
   "source": [
    "Answer:\n",
    "    \n",
    "The \"break\" statement is used to exit (come out of) a the loop when the perticular condition is met. When \"break\" statement is encountered within the loop, it immidiately terminates the loop and continues with the next code outside the loop.\n",
    "\n",
    "\n",
    "And the \"continue\" statement is used to skip the current iteration of the loop if the perticular condition is met. When  \"continue\" statement within a loop is encountered, it skips the remaining code for the current iteration and moves on to the next iteration of the loop. Let us explain this with the help of an example"
   ]
  },
  {
   "cell_type": "code",
   "execution_count": 21,
   "id": "47679e4a",
   "metadata": {},
   "outputs": [
    {
     "name": "stdout",
     "output_type": "stream",
     "text": [
      "0\n",
      "1\n",
      "2\n",
      "3\n",
      "4\n",
      "5\n",
      "6\n",
      "7\n",
      "8\n",
      "9\n"
     ]
    }
   ],
   "source": [
    "# Example for break\n",
    "for i in range(20):\n",
    "    if(i==10):\n",
    "        break\n",
    "    print(i)\n"
   ]
  },
  {
   "cell_type": "code",
   "execution_count": 22,
   "id": "c0d7a80d",
   "metadata": {},
   "outputs": [
    {
     "name": "stdout",
     "output_type": "stream",
     "text": [
      "0\n",
      "1\n",
      "2\n",
      "3\n",
      "4\n",
      "5\n",
      "6\n",
      "7\n",
      "8\n",
      "9\n",
      "11\n",
      "12\n",
      "13\n",
      "14\n",
      "15\n",
      "16\n",
      "17\n",
      "18\n",
      "19\n"
     ]
    }
   ],
   "source": [
    "# Example for break\n",
    "for i in range(20):\n",
    "    if(i==10):\n",
    "        continue\n",
    "    print(i)\n",
    "        "
   ]
  },
  {
   "cell_type": "markdown",
   "id": "ae9d01d3",
   "metadata": {},
   "source": [
    "# 11. In a for loop, what is the difference between range(10), range(0, 10), and range(0, 10, 1)?"
   ]
  },
  {
   "cell_type": "markdown",
   "id": "f2db448a",
   "metadata": {},
   "source": [
    "Answer:\n",
    "\n",
    "range(10) creates a range that starts from the default value 0( because there is no starting value),hence range(10) prints the values from 0 to 9 with a step size of 1.\n",
    "    "
   ]
  },
  {
   "cell_type": "code",
   "execution_count": 23,
   "id": "7a4023df",
   "metadata": {},
   "outputs": [
    {
     "name": "stdout",
     "output_type": "stream",
     "text": [
      "0\n",
      "1\n",
      "2\n",
      "3\n",
      "4\n",
      "5\n",
      "6\n",
      "7\n",
      "8\n",
      "9\n"
     ]
    }
   ],
   "source": [
    "for i in range(10):\n",
    "    print(i)"
   ]
  },
  {
   "cell_type": "markdown",
   "id": "fc763ca8",
   "metadata": {},
   "source": [
    "range(0,10) creates a range from 0(starting value) to 9, hence prints the values from 0 to 9 with a step size 1(default, as there is no step size )"
   ]
  },
  {
   "cell_type": "code",
   "execution_count": 24,
   "id": "f9456248",
   "metadata": {},
   "outputs": [
    {
     "name": "stdout",
     "output_type": "stream",
     "text": [
      "0\n",
      "1\n",
      "2\n",
      "3\n",
      "4\n",
      "5\n",
      "6\n",
      "7\n",
      "8\n",
      "9\n"
     ]
    }
   ],
   "source": [
    "for i in range(0,10):\n",
    "    print(i)"
   ]
  },
  {
   "cell_type": "markdown",
   "id": "5720af24",
   "metadata": {},
   "source": [
    "range(0,10,1) creates a range from 0(starting value) to 9 with a step size 1,hence prints the values from 0 to 9 with a step 1"
   ]
  },
  {
   "cell_type": "code",
   "execution_count": 25,
   "id": "9e06d4e5",
   "metadata": {},
   "outputs": [
    {
     "name": "stdout",
     "output_type": "stream",
     "text": [
      "0\n",
      "1\n",
      "2\n",
      "3\n",
      "4\n",
      "5\n",
      "6\n",
      "7\n",
      "8\n",
      "9\n"
     ]
    }
   ],
   "source": [
    "for i in range(0,10,1):\n",
    "    print(i)"
   ]
  },
  {
   "cell_type": "markdown",
   "id": "c3760577",
   "metadata": {},
   "source": [
    "# 12. Write a short program that prints the numbers 1 to 10 using a for loop. Then write an equivalent program that prints the numbers 1 to 10 using a while loop."
   ]
  },
  {
   "cell_type": "markdown",
   "id": "d0601e6d",
   "metadata": {},
   "source": [
    "Answer:"
   ]
  },
  {
   "cell_type": "code",
   "execution_count": 26,
   "id": "d9ebec11",
   "metadata": {},
   "outputs": [
    {
     "name": "stdout",
     "output_type": "stream",
     "text": [
      "1\n",
      "2\n",
      "3\n",
      "4\n",
      "5\n",
      "6\n",
      "7\n",
      "8\n",
      "9\n",
      "10\n"
     ]
    }
   ],
   "source": [
    "# printing the numbers from 1 to 10 using for loop\n",
    "for i in range(1,11,1):\n",
    "    print(i)"
   ]
  },
  {
   "cell_type": "code",
   "execution_count": 27,
   "id": "b5da5831",
   "metadata": {},
   "outputs": [
    {
     "name": "stdout",
     "output_type": "stream",
     "text": [
      "1\n",
      "2\n",
      "3\n",
      "4\n",
      "5\n",
      "6\n",
      "7\n",
      "8\n",
      "9\n",
      "10\n"
     ]
    }
   ],
   "source": [
    "# printing the numbers from 1 to 10 using while loop\n",
    "i=1\n",
    "while (i<11):\n",
    "    print(i)\n",
    "    i=i+1\n"
   ]
  },
  {
   "cell_type": "markdown",
   "id": "2d2b6dca",
   "metadata": {},
   "source": [
    "# 13. If you had a function named bacon() inside a module named spam, how would you call it after importing spam?"
   ]
  },
  {
   "cell_type": "markdown",
   "id": "25e742df",
   "metadata": {},
   "source": [
    "Answer:\n",
    "\n",
    "This fuction is called using the following statement:\n",
    "    \n",
    "    spam.bacon()"
   ]
  },
  {
   "cell_type": "code",
   "execution_count": null,
   "id": "0a96e6d7",
   "metadata": {},
   "outputs": [],
   "source": []
  }
 ],
 "metadata": {
  "kernelspec": {
   "display_name": "Python 3 (ipykernel)",
   "language": "python",
   "name": "python3"
  },
  "language_info": {
   "codemirror_mode": {
    "name": "ipython",
    "version": 3
   },
   "file_extension": ".py",
   "mimetype": "text/x-python",
   "name": "python",
   "nbconvert_exporter": "python",
   "pygments_lexer": "ipython3",
   "version": "3.9.12"
  }
 },
 "nbformat": 4,
 "nbformat_minor": 5
}

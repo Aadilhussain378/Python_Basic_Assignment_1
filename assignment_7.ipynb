{
 "cells": [
  {
   "cell_type": "markdown",
   "id": "0e2eac8b",
   "metadata": {},
   "source": [
    "Assignment_7\n",
    "\n",
    "Submitted By Aadil Hussain Teeli"
   ]
  },
  {
   "cell_type": "markdown",
   "id": "d42806ce",
   "metadata": {},
   "source": [
    "# Q.1. Create two int type variables, apply addition, subtraction, division and multiplications and store the results in variables. Then print the data in the following format by calling the variables:\n",
    "    \n",
    "First variable is __ & second variable is __.\n",
    "\n",
    "Addition: __ + __ = __\n",
    "\n",
    "Subtraction: __ - __ = __\n",
    "\n",
    "Multiplication: __ * __ = __\n",
    "\n",
    "Division: __ / __ = __"
   ]
  },
  {
   "cell_type": "code",
   "execution_count": 2,
   "id": "331d1ffc",
   "metadata": {},
   "outputs": [
    {
     "name": "stdout",
     "output_type": "stream",
     "text": [
      "First variable is 140 & second variable is 15.\n",
      "Addition:140 + 15 = 155\n",
      "Subtraction:140 - 15 = 125\n",
      "Multiplication:140 * 15 = 2100\n",
      "Division:140 / 15 = 9.333333333333334\n"
     ]
    }
   ],
   "source": [
    "first_variable=140\n",
    "second_variable=15\n",
    "\n",
    "addition_result=first_variable + second_variable\n",
    "subtraction_result = first_variable - second_variable\n",
    "division_result = first_variable / second_variable\n",
    "multiplication_result = first_variable * second_variable\n",
    "\n",
    "print(f\"First variable is {first_variable} & second variable is {second_variable}.\")\n",
    "print(f\"Addition:{first_variable} + {second_variable} = {addition_result}\")\n",
    "print(f\"Subtraction:{first_variable} - {second_variable} = {subtraction_result}\")\n",
    "print(f\"Multiplication:{first_variable} * {second_variable} = {multiplication_result}\")\n",
    "print(f\"Division:{first_variable} / {second_variable} = {division_result}\")"
   ]
  },
  {
   "cell_type": "markdown",
   "id": "914be56c",
   "metadata": {},
   "source": [
    "# Q.2. What is the difference between the following operators:\n",
    "\n",
    "(i) ‘/’ & ‘//’\n",
    "\n",
    "(ii) ‘**’ & ‘^’"
   ]
  },
  {
   "cell_type": "markdown",
   "id": "b46abfd3",
   "metadata": {},
   "source": [
    "Ans: \n",
    "\n",
    "# (i) ‘/’ & ‘//’\n",
    "\n",
    "- / (Division Operator):\n",
    "When used between two integers or floats, it performs standard division.\n",
    "The result will be a floating-point number even if the division yields a whole number. \n",
    "\n",
    "\n",
    "- // (Floor Division Operator): \n",
    "This is known as the floor division or integer division operator.When used between two integers or floats, it performs division and rounds down the result to the nearest whole number.\n"
   ]
  },
  {
   "cell_type": "code",
   "execution_count": 5,
   "id": "13d52624",
   "metadata": {},
   "outputs": [
    {
     "name": "stdout",
     "output_type": "stream",
     "text": [
      "/ Operator: 10 / 3= 3.3333333333333335\n",
      "// Operator: 10 // 3= 3\n"
     ]
    }
   ],
   "source": [
    "# Example\n",
    "print(\"/ Operator: 10 / 3=\",10/3)\n",
    "\n",
    "print(\"// Operator: 10 // 3=\",10 // 3)"
   ]
  },
  {
   "cell_type": "markdown",
   "id": "26404806",
   "metadata": {},
   "source": [
    "# (ii) ** vs ^\n",
    "\n",
    "- ** (Exponentiation Operator): This is used to perform exponentiation or raising a number to the power of another number.\n",
    "\n",
    "\n",
    "\n",
    "- ^ (Bitwise XOR Operator): It is used as the bitwise XOR (exclusive OR) operator. It performs bitwise XOR operation on individual bits of the operands."
   ]
  },
  {
   "cell_type": "code",
   "execution_count": 8,
   "id": "b9a4ed2d",
   "metadata": {},
   "outputs": [
    {
     "name": "stdout",
     "output_type": "stream",
     "text": [
      "8\n",
      "3\n"
     ]
    }
   ],
   "source": [
    "#Example\n",
    "\n",
    "print(2**3)\n",
    "\n",
    "print(5 ^ 6)"
   ]
  },
  {
   "cell_type": "markdown",
   "id": "77dc1fab",
   "metadata": {},
   "source": [
    "# Q.3. List the logical operators."
   ]
  },
  {
   "cell_type": "markdown",
   "id": "4dbebbd8",
   "metadata": {},
   "source": [
    "Ans:\n",
    "    Logical operators are used to combine conditional statements. In Python, the logical operators are:"
   ]
  },
  {
   "cell_type": "markdown",
   "id": "09cdfc4f",
   "metadata": {},
   "source": [
    "- 'and' Operator: The and operator returns True if both conditions it connects are True. Otherwise, it returns False."
   ]
  },
  {
   "cell_type": "code",
   "execution_count": 9,
   "id": "beb62c9a",
   "metadata": {},
   "outputs": [
    {
     "name": "stdout",
     "output_type": "stream",
     "text": [
      "Both x and y are positive.\n"
     ]
    }
   ],
   "source": [
    "# Example\n",
    "\n",
    "x=10 \n",
    "y=20\n",
    "\n",
    "if x>0 and y > 0:\n",
    "    print(\"Both x and y are positive.\")\n",
    "    \n",
    "else:\n",
    "    print(\"Sorry one of the condition is False\")"
   ]
  },
  {
   "cell_type": "markdown",
   "id": "58a952ad",
   "metadata": {},
   "source": [
    "- 'or' Operator: The or operator returns True if at least one of the conditions it connects is True."
   ]
  },
  {
   "cell_type": "code",
   "execution_count": 12,
   "id": "dbec2e5a",
   "metadata": {},
   "outputs": [
    {
     "name": "stdout",
     "output_type": "stream",
     "text": [
      "At least one of the condition is true\n"
     ]
    }
   ],
   "source": [
    "# Example using 'or' operator\n",
    "x = 10\n",
    "y = -20\n",
    "\n",
    "if x > 0 or y > 0:\n",
    "    print(\"At least one of the condition is true\")\n",
    "\n",
    "else:\n",
    "     print(\"Both conditions are False.\")"
   ]
  },
  {
   "cell_type": "markdown",
   "id": "b267ac2a",
   "metadata": {},
   "source": [
    "- not Operator: The not operator reverses the logical state of its operand."
   ]
  },
  {
   "cell_type": "code",
   "execution_count": 13,
   "id": "a56b6023",
   "metadata": {},
   "outputs": [
    {
     "name": "stdout",
     "output_type": "stream",
     "text": [
      "It's raining.\n"
     ]
    }
   ],
   "source": [
    "# Example\n",
    "is_raining = True\n",
    "\n",
    "if not is_raining:\n",
    "    print(\"It's not raining.\")\n",
    "else:\n",
    "    print(\"It's raining.\")"
   ]
  },
  {
   "cell_type": "markdown",
   "id": "42be0084",
   "metadata": {},
   "source": [
    "# Q.4. Explain right shift operator and left shift operator with examples."
   ]
  },
  {
   "cell_type": "markdown",
   "id": "3f8f19c7",
   "metadata": {},
   "source": [
    "Ans:\n",
    "     Right Shift Operator (>>):\n",
    "The right shift operator shifts the bits of a number to the right by a specified number of positions."
   ]
  },
  {
   "cell_type": "code",
   "execution_count": 14,
   "id": "3fd28937",
   "metadata": {},
   "outputs": [
    {
     "name": "stdout",
     "output_type": "stream",
     "text": [
      "4\n"
     ]
    }
   ],
   "source": [
    "# Example\n",
    "num = 16  # Binary: 10000\n",
    "\n",
    "# Right shifting the number by 2 positions\n",
    "result = num >> 2  # Binary: 00100 (which is 4 in decimal)\n",
    "\n",
    "print(result)  "
   ]
  },
  {
   "cell_type": "markdown",
   "id": "ae88ed9f",
   "metadata": {},
   "source": [
    "Left Shift Operator (<<): The left shift operator shifts the bits of a number to the left by a specified number of positions. "
   ]
  },
  {
   "cell_type": "code",
   "execution_count": 15,
   "id": "9cb906cf",
   "metadata": {},
   "outputs": [
    {
     "name": "stdout",
     "output_type": "stream",
     "text": [
      "16\n"
     ]
    }
   ],
   "source": [
    "# Example\n",
    "num = 2  # Binary: 10\n",
    "\n",
    "# Left shifting the number by 3 positions\n",
    "result = num << 3  # Binary: 10000 (which is 16 in decimal)\n",
    "\n",
    "print(result)  "
   ]
  },
  {
   "cell_type": "markdown",
   "id": "4b4c51c9",
   "metadata": {},
   "source": [
    "# Q.5. Create a list containing int type data of length 15. Then write a code to check if 10 is present in the list or not."
   ]
  },
  {
   "cell_type": "code",
   "execution_count": 16,
   "id": "fcea53be",
   "metadata": {},
   "outputs": [
    {
     "name": "stdout",
     "output_type": "stream",
     "text": [
      "10 is present in the list\n"
     ]
    }
   ],
   "source": [
    "my_list = [2, 4, 6, 8, 10, 12, 14, 16, 18, 20, 22, 24, 26, 28, 30]\n",
    "\n",
    "if 10 in my_list:\n",
    "    print(\"10 is present in the list\")\n",
    "else:\n",
    "    print(\"10 is not present in the list.\")"
   ]
  },
  {
   "cell_type": "code",
   "execution_count": null,
   "id": "d0b079fd",
   "metadata": {},
   "outputs": [],
   "source": []
  }
 ],
 "metadata": {
  "kernelspec": {
   "display_name": "Python 3 (ipykernel)",
   "language": "python",
   "name": "python3"
  },
  "language_info": {
   "codemirror_mode": {
    "name": "ipython",
    "version": 3
   },
   "file_extension": ".py",
   "mimetype": "text/x-python",
   "name": "python",
   "nbconvert_exporter": "python",
   "pygments_lexer": "ipython3",
   "version": "3.9.12"
  }
 },
 "nbformat": 4,
 "nbformat_minor": 5
}

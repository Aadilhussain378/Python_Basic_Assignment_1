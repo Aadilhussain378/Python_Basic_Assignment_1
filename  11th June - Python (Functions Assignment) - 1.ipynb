{
 "cells": [
  {
   "cell_type": "markdown",
   "id": "62bf8ad1",
   "metadata": {},
   "source": [
    "Assignment__ 11th June - Python (Functions Assignment) - 1\n",
    "\n",
    "Submitted By Aadil Hussain Teeli"
   ]
  },
  {
   "cell_type": "markdown",
   "id": "c941f4ba",
   "metadata": {},
   "source": [
    "# 1. What is a lambda function in Python, and how does it differ from a regular function?"
   ]
  },
  {
   "cell_type": "markdown",
   "id": "960d9d7a",
   "metadata": {},
   "source": [
    "Ans:\n",
    "    \n",
    "Lambda Function :A lambda function in Python is a small anonymous function defined using the lambda keyword. It's called anonymous because it doesn't require a name like regular functions defined using the def keyword. Lambda functions can have any number of arguments but only one expression."
   ]
  },
  {
   "cell_type": "code",
   "execution_count": 1,
   "id": "c8067afa",
   "metadata": {},
   "outputs": [
    {
     "name": "stdout",
     "output_type": "stream",
     "text": [
      "25\n"
     ]
    }
   ],
   "source": [
    "# Example\n",
    "square = lambda x: x ** 2\n",
    "print(square(5))"
   ]
  },
  {
   "cell_type": "markdown",
   "id": "a6b1df89",
   "metadata": {},
   "source": [
    "Differences between Lambda Function and Regular Function:\n",
    "\n",
    "Definition:\n",
    "- Lambda: Anonymous function defined with lambda keyword; single expression.\n",
    "- Regular: Named function defined with def keyword; can have multiple statements.\n",
    "\n",
    "Expression Count:\n",
    "\n",
    "- Lambda: Supports one expression only.\n",
    "- Regular: Can contain multiple expressions.\n",
    "\n",
    "Usage:\n",
    "\n",
    "- Lambda: Ideal for short, single-use operations.\n",
    "- Regular: Better for complex tasks, reusability, and readability.\n",
    "\n",
    "Return:\n",
    "\n",
    "- Lambda: Implicit return of expression result.\n",
    "- Regular: Requires explicit return statement."
   ]
  },
  {
   "cell_type": "markdown",
   "id": "4e4d68e4",
   "metadata": {},
   "source": [
    "# 2. Can a lambda function in Python have multiple arguments? If yes, how can you define and usethem?"
   ]
  },
  {
   "cell_type": "code",
   "execution_count": 2,
   "id": "5572d076",
   "metadata": {},
   "outputs": [
    {
     "name": "stdout",
     "output_type": "stream",
     "text": [
      "8\n"
     ]
    }
   ],
   "source": [
    "# Yes, a lambda function in Python can have multiple arguments.Example\n",
    "\n",
    "add = lambda x, y: x + y\n",
    "\n",
    "# Use the lambda function to add two numbers\n",
    "result = add(3, 5) \n",
    "print(result)"
   ]
  },
  {
   "cell_type": "markdown",
   "id": "013cca3e",
   "metadata": {},
   "source": [
    "# 3. How are lambda functions typically used in Python? Provide an example use case."
   ]
  },
  {
   "cell_type": "markdown",
   "id": "621ca8f5",
   "metadata": {},
   "source": [
    "Ans:\n",
    "They are often used in situations where a small anonymous function is required as an argument to higher-order functions like map(), filter(), and sorted() or in scenarios where you need a quick inline function."
   ]
  },
  {
   "cell_type": "code",
   "execution_count": 4,
   "id": "273c8061",
   "metadata": {},
   "outputs": [
    {
     "name": "stdout",
     "output_type": "stream",
     "text": [
      "[1, 4, 9, 16, 25]\n"
     ]
    }
   ],
   "source": [
    "# Using lambda with with map()\n",
    "\n",
    "numbers = [1, 2, 3, 4, 5]\n",
    "square = list(map(lambda x: x ** 2, numbers))\n",
    "print(square)"
   ]
  },
  {
   "cell_type": "code",
   "execution_count": 5,
   "id": "5c366132",
   "metadata": {},
   "outputs": [
    {
     "name": "stdout",
     "output_type": "stream",
     "text": [
      "[2, 4, 6, 8]\n"
     ]
    }
   ],
   "source": [
    "# Using Lamda with filter()\n",
    "numbers = [1, 2, 3, 4, 5, 6, 7, 8, 9]\n",
    "even_numbers = list(filter(lambda x: x % 2 == 0, numbers))\n",
    "print(even_numbers)"
   ]
  },
  {
   "cell_type": "code",
   "execution_count": 6,
   "id": "7b52b37b",
   "metadata": {},
   "outputs": [
    {
     "name": "stdout",
     "output_type": "stream",
     "text": [
      "[('Sunny', 25), ('Krih', 30), ('Sudanchu', 35)]\n"
     ]
    }
   ],
   "source": [
    "# using lamda with sorted()\n",
    "people = [('Krih', 30), ('Sunny', 25), ('Sudanchu', 35)]\n",
    "sorted_people = sorted(people, key=lambda x: x[1])\n",
    "print(sorted_people) "
   ]
  },
  {
   "cell_type": "markdown",
   "id": "2c491516",
   "metadata": {},
   "source": [
    "# 4. What are the advantages and limitations of lambda functions compared to regular functions in Python?"
   ]
  },
  {
   "cell_type": "markdown",
   "id": "8799e697",
   "metadata": {},
   "source": [
    "Ans:\n",
    "   \n",
    "Advantages of Lambda Functions:\n",
    "- Concise Syntax: Shorter and quicker for simple operations.\n",
    "- Inline Usage: Directly usable in higher-order functions.\n",
    "\n",
    "Limitations of Lambda Functions:\n",
    "- Limited Complexity: Single expression; no multiple statements.\n",
    "- No Documentation: Lacks support for docstrings.\n",
    "- Reduced Readability: Can be harder to understand for complex tasks.\n",
    "- Debugging Challenges: Anonymous nature makes debugging more difficult."
   ]
  },
  {
   "cell_type": "markdown",
   "id": "29112b9d",
   "metadata": {},
   "source": [
    "# 5. Are lambda functions in Python able to access variables defined outside of their own scope? Explain with an example."
   ]
  },
  {
   "cell_type": "markdown",
   "id": "6358377b",
   "metadata": {},
   "source": [
    "Ans:\n",
    "    Yes, lambda functions in Python can access variables defined outside of their own scope. This behavior is due to the lexical scoping rules in Python, where lambda functions can access variables from the enclosing scope in which they are defined."
   ]
  },
  {
   "cell_type": "code",
   "execution_count": 7,
   "id": "30b30685",
   "metadata": {},
   "outputs": [
    {
     "name": "stdout",
     "output_type": "stream",
     "text": [
      "15\n"
     ]
    }
   ],
   "source": [
    "# Example\n",
    "\n",
    "var= 10  # Define a variable outside the lambda function's scope\n",
    "\n",
    "#  lambda function accesses the outside variable\n",
    "lambda_function = lambda x: x + var\n",
    "\n",
    "\n",
    "result = lambda_function(5)  \n",
    "print(result)"
   ]
  },
  {
   "cell_type": "markdown",
   "id": "d6c2aa90",
   "metadata": {},
   "source": [
    "# 6. Write a lambda function to calculate the square of a given number."
   ]
  },
  {
   "cell_type": "code",
   "execution_count": 8,
   "id": "5413b2ab",
   "metadata": {},
   "outputs": [
    {
     "name": "stdout",
     "output_type": "stream",
     "text": [
      "64\n"
     ]
    }
   ],
   "source": [
    "square= lambda x:x**2\n",
    "print(square(8))\n",
    "    "
   ]
  },
  {
   "cell_type": "markdown",
   "id": "4dafb934",
   "metadata": {},
   "source": [
    "# 7. Create a lambda function to find the maximum value in a list of integers."
   ]
  },
  {
   "cell_type": "code",
   "execution_count": 9,
   "id": "2d481667",
   "metadata": {},
   "outputs": [
    {
     "name": "stdout",
     "output_type": "stream",
     "text": [
      "322\n"
     ]
    }
   ],
   "source": [
    "my_list=[2,5,4,3,8,7,10,14,322]\n",
    "\n",
    "max_val=lambda x:max(x)\n",
    "\n",
    "result=max_val(my_list)\n",
    "print(result)"
   ]
  },
  {
   "cell_type": "markdown",
   "id": "e38fc6c1",
   "metadata": {},
   "source": [
    "# 8. Implement a lambda function to filter out all the even numbers from a list of integers."
   ]
  },
  {
   "cell_type": "code",
   "execution_count": 10,
   "id": "6c23a0c6",
   "metadata": {},
   "outputs": [
    {
     "name": "stdout",
     "output_type": "stream",
     "text": [
      "[2, 4, 6, 8]\n"
     ]
    }
   ],
   "source": [
    "numbers = [1, 2, 3, 4, 5, 6, 7, 8, 9]\n",
    "even_numbers = list(filter(lambda x: x % 2 == 0, numbers))\n",
    "print(even_numbers)"
   ]
  },
  {
   "cell_type": "markdown",
   "id": "ed157b9b",
   "metadata": {},
   "source": [
    "# 9. Write a lambda function to sort a list of strings in ascending order based on the length of each string."
   ]
  },
  {
   "cell_type": "code",
   "execution_count": 12,
   "id": "15a50a0d",
   "metadata": {},
   "outputs": [
    {
     "name": "stdout",
     "output_type": "stream",
     "text": [
      "['pen', 'nail', 'book', 'apple', 'banana', 'cherry', 'laptop', 'mobile']\n"
     ]
    }
   ],
   "source": [
    "my_list2 = ['apple', 'banana', 'cherry', 'laptop','mobile','pen','nail','book']\n",
    "sorted_str = sorted(my_list2, key=lambda x: len(x))\n",
    "\n",
    "print(sorted_str)\n"
   ]
  },
  {
   "cell_type": "markdown",
   "id": "d2f9c97b",
   "metadata": {},
   "source": [
    "# 10. Create a lambda function that takes two lists as input and returns a new list containing the common elements between the two lists."
   ]
  },
  {
   "cell_type": "code",
   "execution_count": 14,
   "id": "9fd9e8a1",
   "metadata": {},
   "outputs": [
    {
     "name": "stdout",
     "output_type": "stream",
     "text": [
      "The common elements between the two lists are: [4, 5]\n"
     ]
    }
   ],
   "source": [
    "list1 = [1, 2, 3, 4, 5]\n",
    "list2 = [4, 5, 6, 7, 8]\n",
    "\n",
    "common_elements = lambda x, y: list(filter(lambda a: a in x, y))\n",
    "\n",
    "result= common_elements(list1, list2)\n",
    "print(f\"The common elements between the two lists are: {result}\")\n"
   ]
  },
  {
   "cell_type": "markdown",
   "id": "971582e5",
   "metadata": {},
   "source": [
    "# 11. Write a recursive function to calculate the factorial of a given positive integer."
   ]
  },
  {
   "cell_type": "code",
   "execution_count": 20,
   "id": "2e7c5fb9",
   "metadata": {},
   "outputs": [
    {
     "data": {
      "text/plain": [
       "3628800"
      ]
     },
     "execution_count": 20,
     "metadata": {},
     "output_type": "execute_result"
    }
   ],
   "source": [
    "def factorial(n):\n",
    "    if n==0 or n ==1:\n",
    "        return 1\n",
    "    return n * factorial(n-1)\n",
    "\n",
    "factorial(10)"
   ]
  },
  {
   "cell_type": "markdown",
   "id": "c41eb17b",
   "metadata": {},
   "source": [
    "# 12. Implement a recursive function to compute the nth Fibonacci number."
   ]
  },
  {
   "cell_type": "code",
   "execution_count": 29,
   "id": "6056ee2e",
   "metadata": {},
   "outputs": [
    {
     "name": "stdout",
     "output_type": "stream",
     "text": [
      "Let us find the nth number in Fibonacci series 9\n"
     ]
    },
    {
     "data": {
      "text/plain": [
       "34"
      ]
     },
     "execution_count": 29,
     "metadata": {},
     "output_type": "execute_result"
    }
   ],
   "source": [
    "def fib(n):\n",
    "    if n==0:\n",
    "        return 0\n",
    "    elif n==1:\n",
    "        return 1\n",
    "    return fib(n-1)+fib(n-2)\n",
    "\n",
    "x=int(input(\"Let us find the nth number in Fibonacci series \"))\n",
    "fib(x)"
   ]
  },
  {
   "cell_type": "markdown",
   "id": "bed903a3",
   "metadata": {},
   "source": [
    "# 13. Create a recursive function to find the sum of all the elements in a given list."
   ]
  },
  {
   "cell_type": "code",
   "execution_count": 30,
   "id": "b45b0fe5",
   "metadata": {},
   "outputs": [
    {
     "name": "stdout",
     "output_type": "stream",
     "text": [
      "The sum of all elements in the list is: 15\n"
     ]
    }
   ],
   "source": [
    "def recursive_sum(lst):\n",
    "    \n",
    "    if not lst:\n",
    "        return 0\n",
    "    else:\n",
    "        return lst[0] + recursive_sum(lst[1:])\n",
    "\n",
    "numbers = [1, 2, 3, 4, 5]\n",
    "result = recursive_sum(numbers)\n",
    "print(f\"The sum of all elements in the list is: {result}\")\n"
   ]
  },
  {
   "cell_type": "markdown",
   "id": "47bcccc0",
   "metadata": {},
   "source": [
    "# 14. Write a recursive function to determine whether a given string is a palindrome."
   ]
  },
  {
   "cell_type": "code",
   "execution_count": 35,
   "id": "058f5b73",
   "metadata": {},
   "outputs": [
    {
     "name": "stdout",
     "output_type": "stream",
     "text": [
      "'radar' is a palindrome: True\n",
      "'hello' is a palindrome: False\n"
     ]
    }
   ],
   "source": [
    "def is_palindrome(s):\n",
    "    \n",
    "    if len(s) <= 1:\n",
    "            return True\n",
    "    elif s[0] == s[-1]:\n",
    "            return is_palindrome(s[1:-1])\n",
    "    else:\n",
    "        return False\n",
    "\n",
    "\n",
    "string1 = \"radar\"\n",
    "string2 = \"hello\"\n",
    "\n",
    "print(f\"'{string1}' is a palindrome: {is_palindrome(string1)}\") \n",
    "print(f\"'{string2}' is a palindrome: {is_palindrome(string2)}\") \n"
   ]
  },
  {
   "cell_type": "markdown",
   "id": "45ea9c5b",
   "metadata": {},
   "source": [
    "# 15. Implement a recursive function to find the greatest common divisor (GCD) of two positive integers."
   ]
  },
  {
   "cell_type": "code",
   "execution_count": 36,
   "id": "ab3921f7",
   "metadata": {},
   "outputs": [
    {
     "name": "stdout",
     "output_type": "stream",
     "text": [
      "The GCD of 56 and 48 is: 8\n"
     ]
    }
   ],
   "source": [
    "def gcd(a, b):\n",
    "    if b == 0:\n",
    "        return a\n",
    "    else:\n",
    "        return gcd(b, a % b)\n",
    "\n",
    "number1 = 56\n",
    "number2 = 48\n",
    "\n",
    "print(f\"The GCD of {number1} and {number2} is: {gcd(number1, number2)}\")  \n"
   ]
  },
  {
   "cell_type": "code",
   "execution_count": null,
   "id": "b15cf267",
   "metadata": {},
   "outputs": [],
   "source": []
  }
 ],
 "metadata": {
  "kernelspec": {
   "display_name": "Python 3 (ipykernel)",
   "language": "python",
   "name": "python3"
  },
  "language_info": {
   "codemirror_mode": {
    "name": "ipython",
    "version": 3
   },
   "file_extension": ".py",
   "mimetype": "text/x-python",
   "name": "python",
   "nbconvert_exporter": "python",
   "pygments_lexer": "ipython3",
   "version": "3.9.12"
  }
 },
 "nbformat": 4,
 "nbformat_minor": 5
}
